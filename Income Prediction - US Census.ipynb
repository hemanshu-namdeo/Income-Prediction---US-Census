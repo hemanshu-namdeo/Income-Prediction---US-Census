{
 "cells": [
  {
   "cell_type": "markdown",
   "metadata": {},
   "source": [
    "## Income Prediction - US Census "
   ]
  },
  {
   "cell_type": "markdown",
   "metadata": {},
   "source": [
    "### 1. Business understanding\n",
    "\n",
    "#### Introduction:\n",
    "The given dataset is from the United States Census Bureau - a principal agency of the U.S. Federal Statistical System, responsible for producing data about the American people and economy.\n",
    "\n",
    "#### Goal:\n",
    "Predict whether an individual income is <=50K/yr or >50K/yr based on census data.\n",
    "\n",
    "#### Features:\n",
    "\n",
    "workclass: Private, Self-emp-not-inc, Self-emp-inc, Federal-gov, Local-gov, State-gov, Without-pay, Never Worked.\n",
    "\n",
    "fnlwgt: continuous\n",
    "\n",
    "education: Bachelors, Some-college, 11th, HS-grad, Prof-school, Assoc-acdm, Assoc-voc, 9th, 7th-8th, 12th, Masters, 1st-4th, 10th, Doctorate, 5th-6th, Preschool.\n",
    "\n",
    "education-num: continuous.\n",
    "\n",
    "marital-status: Married-civ-spouse, Divorced, Never-married, Separated, Widowed, Married-spouse-absent, Married-AF-spouse.\n",
    "\n",
    "occupation: Tech-support, Craft-repair, Other-service, Sales, Exec-managerial, Prof-specialty, Handlers-cleaners, Machine-op-inspct, Adm-clerical, Farming-fishing, Transport-moving, Priv-house-serv, Protective-serv, Armed-Forces.\n",
    "\n",
    "relationship: Wife, Own-child, Husband, Not-in-family, Other-relative, Unmarried.\n",
    "\n",
    "sex: Female, Male.\n",
    "\n",
    "capital-gain: continuous.\n",
    "\n",
    "capital-loss: continuous.\n",
    "\n",
    "hours-per-week: continuous.\n",
    "\n",
    "native-country: United-States, Cambodia, England, Puerto-Rico, Canada, Germany, Outlying-US(Guam-USVI-etc), India, Japan, Greece, South, China, Cuba, Iran, Honduras, Philippines, Italy, Poland, Jamaica, Vietnam, Mexico, Portugal, Ireland, France, Dominican-Republic, Laos, Ecuador, Taiwan, Haiti, Columbia, Hungary, Guatemala, Nicaragua, Scotland, Thailand, Yugoslavia, El-Salvador, Trinadad&Tobago, Peru, Hong, Holand-Netherlands.\n",
    "\n",
    "#### Target Variable\n",
    "\n",
    "Income: >50K, <=50K"
   ]
  },
  {
   "cell_type": "markdown",
   "metadata": {},
   "source": [
    "#### Importing relevant Libraries"
   ]
  },
  {
   "cell_type": "code",
   "execution_count": 2,
   "metadata": {},
   "outputs": [],
   "source": [
    "import numpy as np\n",
    "import pandas as pd\n",
    "import matplotlib.pyplot as plt\n",
    "import seaborn as sns\n",
    "%matplotlib inline"
   ]
  },
  {
   "cell_type": "markdown",
   "metadata": {},
   "source": [
    "#### Importing the Data"
   ]
  },
  {
   "cell_type": "markdown",
   "metadata": {},
   "source": [
    "We are given two files\n",
    "\n",
    "1) 'data.csv' to train our model\n",
    "\n",
    "2) 'final.csv' to test our model\n"
   ]
  },
  {
   "cell_type": "code",
   "execution_count": 225,
   "metadata": {},
   "outputs": [],
   "source": [
    "train_dataset = pd.read_csv('data.csv', skipinitialspace=True)\n",
    "test_dataset = pd.read_csv('final.csv', skipinitialspace=True)"
   ]
  },
  {
   "cell_type": "code",
   "execution_count": 226,
   "metadata": {},
   "outputs": [
    {
     "data": {
      "text/html": [
       "<div>\n",
       "<style scoped>\n",
       "    .dataframe tbody tr th:only-of-type {\n",
       "        vertical-align: middle;\n",
       "    }\n",
       "\n",
       "    .dataframe tbody tr th {\n",
       "        vertical-align: top;\n",
       "    }\n",
       "\n",
       "    .dataframe thead th {\n",
       "        text-align: right;\n",
       "    }\n",
       "</style>\n",
       "<table border=\"1\" class=\"dataframe\">\n",
       "  <thead>\n",
       "    <tr style=\"text-align: right;\">\n",
       "      <th></th>\n",
       "      <th>Unnamed: 0</th>\n",
       "      <th>Age</th>\n",
       "      <th>WorkClass</th>\n",
       "      <th>fnlwgt</th>\n",
       "      <th>Education</th>\n",
       "      <th>EducationNum</th>\n",
       "      <th>MaritalStatus</th>\n",
       "      <th>Occupation</th>\n",
       "      <th>Relationship</th>\n",
       "      <th>Gender</th>\n",
       "      <th>CapitalGain</th>\n",
       "      <th>CapitalLoss</th>\n",
       "      <th>HoursPerWeek</th>\n",
       "      <th>NativeCountry</th>\n",
       "      <th>Income</th>\n",
       "    </tr>\n",
       "  </thead>\n",
       "  <tbody>\n",
       "    <tr>\n",
       "      <th>0</th>\n",
       "      <td>0</td>\n",
       "      <td>39.0</td>\n",
       "      <td>State-gov</td>\n",
       "      <td>77516.0</td>\n",
       "      <td>Bachelors</td>\n",
       "      <td>13.0</td>\n",
       "      <td>Never-married</td>\n",
       "      <td>Adm-clerical</td>\n",
       "      <td>Not-in-family</td>\n",
       "      <td>Male</td>\n",
       "      <td>2174.0</td>\n",
       "      <td>0.0</td>\n",
       "      <td>40.0</td>\n",
       "      <td>United-States</td>\n",
       "      <td>&lt;=50K</td>\n",
       "    </tr>\n",
       "    <tr>\n",
       "      <th>1</th>\n",
       "      <td>1</td>\n",
       "      <td>50.0</td>\n",
       "      <td>Self-emp-not-inc</td>\n",
       "      <td>83311.0</td>\n",
       "      <td>Bachelors</td>\n",
       "      <td>13.0</td>\n",
       "      <td>Married-civ-spouse</td>\n",
       "      <td>NaN</td>\n",
       "      <td>Husband</td>\n",
       "      <td>Male</td>\n",
       "      <td>0.0</td>\n",
       "      <td>0.0</td>\n",
       "      <td>13.0</td>\n",
       "      <td>United-States</td>\n",
       "      <td>&lt;=50K</td>\n",
       "    </tr>\n",
       "    <tr>\n",
       "      <th>2</th>\n",
       "      <td>2</td>\n",
       "      <td>38.0</td>\n",
       "      <td>Private</td>\n",
       "      <td>215646.0</td>\n",
       "      <td>HS-grad</td>\n",
       "      <td>9.0</td>\n",
       "      <td>Divorced</td>\n",
       "      <td>Handlers-cleaners</td>\n",
       "      <td>Not-in-family</td>\n",
       "      <td>Male</td>\n",
       "      <td>0.0</td>\n",
       "      <td>0.0</td>\n",
       "      <td>40.0</td>\n",
       "      <td>United-States</td>\n",
       "      <td>&lt;=50K</td>\n",
       "    </tr>\n",
       "    <tr>\n",
       "      <th>3</th>\n",
       "      <td>3</td>\n",
       "      <td>53.0</td>\n",
       "      <td>Private</td>\n",
       "      <td>NaN</td>\n",
       "      <td>NaN</td>\n",
       "      <td>7.0</td>\n",
       "      <td>Married-civ-spouse</td>\n",
       "      <td>Handlers-cleaners</td>\n",
       "      <td>Husband</td>\n",
       "      <td>Male</td>\n",
       "      <td>0.0</td>\n",
       "      <td>NaN</td>\n",
       "      <td>40.0</td>\n",
       "      <td>United-States</td>\n",
       "      <td>&lt;=50K</td>\n",
       "    </tr>\n",
       "    <tr>\n",
       "      <th>4</th>\n",
       "      <td>4</td>\n",
       "      <td>28.0</td>\n",
       "      <td>Private</td>\n",
       "      <td>338409.0</td>\n",
       "      <td>Bachelors</td>\n",
       "      <td>13.0</td>\n",
       "      <td>Married-civ-spouse</td>\n",
       "      <td>Prof-specialty</td>\n",
       "      <td>Wife</td>\n",
       "      <td>NaN</td>\n",
       "      <td>0.0</td>\n",
       "      <td>0.0</td>\n",
       "      <td>40.0</td>\n",
       "      <td>Cuba</td>\n",
       "      <td>&lt;=50K</td>\n",
       "    </tr>\n",
       "  </tbody>\n",
       "</table>\n",
       "</div>"
      ],
      "text/plain": [
       "   Unnamed: 0   Age         WorkClass    fnlwgt  Education  EducationNum  \\\n",
       "0           0  39.0         State-gov   77516.0  Bachelors          13.0   \n",
       "1           1  50.0  Self-emp-not-inc   83311.0  Bachelors          13.0   \n",
       "2           2  38.0           Private  215646.0    HS-grad           9.0   \n",
       "3           3  53.0           Private       NaN        NaN           7.0   \n",
       "4           4  28.0           Private  338409.0  Bachelors          13.0   \n",
       "\n",
       "        MaritalStatus         Occupation   Relationship Gender  CapitalGain  \\\n",
       "0       Never-married       Adm-clerical  Not-in-family   Male       2174.0   \n",
       "1  Married-civ-spouse                NaN        Husband   Male          0.0   \n",
       "2            Divorced  Handlers-cleaners  Not-in-family   Male          0.0   \n",
       "3  Married-civ-spouse  Handlers-cleaners        Husband   Male          0.0   \n",
       "4  Married-civ-spouse     Prof-specialty           Wife    NaN          0.0   \n",
       "\n",
       "   CapitalLoss  HoursPerWeek  NativeCountry Income  \n",
       "0          0.0          40.0  United-States  <=50K  \n",
       "1          0.0          13.0  United-States  <=50K  \n",
       "2          0.0          40.0  United-States  <=50K  \n",
       "3          NaN          40.0  United-States  <=50K  \n",
       "4          0.0          40.0           Cuba  <=50K  "
      ]
     },
     "execution_count": 226,
     "metadata": {},
     "output_type": "execute_result"
    }
   ],
   "source": [
    "train_dataset.head()"
   ]
  },
  {
   "cell_type": "markdown",
   "metadata": {},
   "source": [
    "### 2. Data understanding"
   ]
  },
  {
   "cell_type": "markdown",
   "metadata": {},
   "source": [
    "#### Performing Expolatory Data Analysis"
   ]
  },
  {
   "cell_type": "code",
   "execution_count": 227,
   "metadata": {},
   "outputs": [],
   "source": [
    "#Dropping the Unnamed column which represents index values\n",
    "train_dataset.drop(labels = 'Unnamed: 0' ,axis = 1,inplace = True)\n",
    "test_dataset.drop(labels = 'Unnamed: 0' ,axis = 1,inplace = True)"
   ]
  },
  {
   "cell_type": "code",
   "execution_count": 579,
   "metadata": {},
   "outputs": [
    {
     "data": {
      "text/plain": [
       "Age              float64\n",
       "WorkClass         object\n",
       "fnlwgt           float64\n",
       "Education         object\n",
       "EducationNum     float64\n",
       "MaritalStatus     object\n",
       "Occupation        object\n",
       "Relationship      object\n",
       "Gender            object\n",
       "CapitalGain      float64\n",
       "CapitalLoss      float64\n",
       "HoursPerWeek     float64\n",
       "NativeCountry     object\n",
       "Income            object\n",
       "dtype: object"
      ]
     },
     "execution_count": 579,
     "metadata": {},
     "output_type": "execute_result"
    }
   ],
   "source": [
    "train_dataset.dtypes"
   ]
  },
  {
   "cell_type": "code",
   "execution_count": 228,
   "metadata": {},
   "outputs": [
    {
     "data": {
      "text/html": [
       "<div>\n",
       "<style scoped>\n",
       "    .dataframe tbody tr th:only-of-type {\n",
       "        vertical-align: middle;\n",
       "    }\n",
       "\n",
       "    .dataframe tbody tr th {\n",
       "        vertical-align: top;\n",
       "    }\n",
       "\n",
       "    .dataframe thead th {\n",
       "        text-align: right;\n",
       "    }\n",
       "</style>\n",
       "<table border=\"1\" class=\"dataframe\">\n",
       "  <thead>\n",
       "    <tr style=\"text-align: right;\">\n",
       "      <th></th>\n",
       "      <th>Age</th>\n",
       "      <th>fnlwgt</th>\n",
       "      <th>EducationNum</th>\n",
       "      <th>CapitalGain</th>\n",
       "      <th>CapitalLoss</th>\n",
       "      <th>HoursPerWeek</th>\n",
       "    </tr>\n",
       "  </thead>\n",
       "  <tbody>\n",
       "    <tr>\n",
       "      <th>count</th>\n",
       "      <td>38194.000000</td>\n",
       "      <td>3.814900e+04</td>\n",
       "      <td>38132.000000</td>\n",
       "      <td>38129.000000</td>\n",
       "      <td>38217.000000</td>\n",
       "      <td>38255.000000</td>\n",
       "    </tr>\n",
       "    <tr>\n",
       "      <th>mean</th>\n",
       "      <td>38.591585</td>\n",
       "      <td>1.898043e+05</td>\n",
       "      <td>10.080169</td>\n",
       "      <td>1076.079467</td>\n",
       "      <td>88.536934</td>\n",
       "      <td>40.407136</td>\n",
       "    </tr>\n",
       "    <tr>\n",
       "      <th>std</th>\n",
       "      <td>13.682749</td>\n",
       "      <td>1.059296e+05</td>\n",
       "      <td>2.570247</td>\n",
       "      <td>7440.867512</td>\n",
       "      <td>406.104097</td>\n",
       "      <td>12.432823</td>\n",
       "    </tr>\n",
       "    <tr>\n",
       "      <th>min</th>\n",
       "      <td>17.000000</td>\n",
       "      <td>1.228500e+04</td>\n",
       "      <td>1.000000</td>\n",
       "      <td>0.000000</td>\n",
       "      <td>0.000000</td>\n",
       "      <td>1.000000</td>\n",
       "    </tr>\n",
       "    <tr>\n",
       "      <th>25%</th>\n",
       "      <td>28.000000</td>\n",
       "      <td>1.174440e+05</td>\n",
       "      <td>9.000000</td>\n",
       "      <td>0.000000</td>\n",
       "      <td>0.000000</td>\n",
       "      <td>40.000000</td>\n",
       "    </tr>\n",
       "    <tr>\n",
       "      <th>50%</th>\n",
       "      <td>37.000000</td>\n",
       "      <td>1.782510e+05</td>\n",
       "      <td>10.000000</td>\n",
       "      <td>0.000000</td>\n",
       "      <td>0.000000</td>\n",
       "      <td>40.000000</td>\n",
       "    </tr>\n",
       "    <tr>\n",
       "      <th>75%</th>\n",
       "      <td>48.000000</td>\n",
       "      <td>2.378680e+05</td>\n",
       "      <td>12.000000</td>\n",
       "      <td>0.000000</td>\n",
       "      <td>0.000000</td>\n",
       "      <td>45.000000</td>\n",
       "    </tr>\n",
       "    <tr>\n",
       "      <th>max</th>\n",
       "      <td>90.000000</td>\n",
       "      <td>1.490400e+06</td>\n",
       "      <td>16.000000</td>\n",
       "      <td>99999.000000</td>\n",
       "      <td>4356.000000</td>\n",
       "      <td>99.000000</td>\n",
       "    </tr>\n",
       "  </tbody>\n",
       "</table>\n",
       "</div>"
      ],
      "text/plain": [
       "                Age        fnlwgt  EducationNum   CapitalGain   CapitalLoss  \\\n",
       "count  38194.000000  3.814900e+04  38132.000000  38129.000000  38217.000000   \n",
       "mean      38.591585  1.898043e+05     10.080169   1076.079467     88.536934   \n",
       "std       13.682749  1.059296e+05      2.570247   7440.867512    406.104097   \n",
       "min       17.000000  1.228500e+04      1.000000      0.000000      0.000000   \n",
       "25%       28.000000  1.174440e+05      9.000000      0.000000      0.000000   \n",
       "50%       37.000000  1.782510e+05     10.000000      0.000000      0.000000   \n",
       "75%       48.000000  2.378680e+05     12.000000      0.000000      0.000000   \n",
       "max       90.000000  1.490400e+06     16.000000  99999.000000   4356.000000   \n",
       "\n",
       "       HoursPerWeek  \n",
       "count  38255.000000  \n",
       "mean      40.407136  \n",
       "std       12.432823  \n",
       "min        1.000000  \n",
       "25%       40.000000  \n",
       "50%       40.000000  \n",
       "75%       45.000000  \n",
       "max       99.000000  "
      ]
     },
     "execution_count": 228,
     "metadata": {},
     "output_type": "execute_result"
    }
   ],
   "source": [
    "train_dataset.describe()"
   ]
  },
  {
   "cell_type": "markdown",
   "metadata": {},
   "source": [
    "#### Checking null values\n",
    "All the columns have missing values except Unnamed and Income"
   ]
  },
  {
   "cell_type": "code",
   "execution_count": 229,
   "metadata": {},
   "outputs": [
    {
     "data": {
      "text/plain": [
       "Age              6.695981\n",
       "WorkClass        6.813241\n",
       "fnlwgt           6.805912\n",
       "Education        6.700867\n",
       "EducationNum     6.847441\n",
       "MaritalStatus    7.143032\n",
       "Occupation       6.739954\n",
       "Relationship     6.876756\n",
       "Gender           6.661781\n",
       "CapitalGain      6.854770\n",
       "CapitalLoss      6.639795\n",
       "HoursPerWeek     6.546965\n",
       "NativeCountry    6.666667\n",
       "Income           0.000000\n",
       "dtype: float64"
      ]
     },
     "execution_count": 229,
     "metadata": {},
     "output_type": "execute_result"
    }
   ],
   "source": [
    "(train_dataset.isnull().sum() / len(train_dataset))*100"
   ]
  },
  {
   "cell_type": "code",
   "execution_count": 230,
   "metadata": {},
   "outputs": [
    {
     "data": {
      "text/plain": [
       "(40935, 14)"
      ]
     },
     "execution_count": 230,
     "metadata": {},
     "output_type": "execute_result"
    }
   ],
   "source": [
    "train_dataset.shape"
   ]
  },
  {
   "cell_type": "markdown",
   "metadata": {},
   "source": [
    "#### Target Variable "
   ]
  },
  {
   "cell_type": "code",
   "execution_count": 582,
   "metadata": {},
   "outputs": [
    {
     "data": {
      "text/plain": [
       "<=50K     21121\n",
       "<=50K.    10002\n",
       ">50K       6719\n",
       ">50K.      3093\n",
       "Name: Income, dtype: int64"
      ]
     },
     "execution_count": 582,
     "metadata": {},
     "output_type": "execute_result"
    }
   ],
   "source": [
    "train_dataset.Income.value_counts()"
   ]
  },
  {
   "cell_type": "code",
   "execution_count": 583,
   "metadata": {},
   "outputs": [],
   "source": [
    "train_dataset['Income'].replace(to_replace = '<=50K.' ,value = '<=50K',inplace = True)\n",
    "train_dataset['Income'].replace(to_replace = '>50K.',value = '>50K',inplace = True)"
   ]
  },
  {
   "cell_type": "code",
   "execution_count": 584,
   "metadata": {},
   "outputs": [
    {
     "data": {
      "text/plain": [
       "<=50K    31123\n",
       ">50K      9812\n",
       "Name: Income, dtype: int64"
      ]
     },
     "execution_count": 584,
     "metadata": {},
     "output_type": "execute_result"
    }
   ],
   "source": [
    "#Target Variable\n",
    "train_dataset.Income.value_counts()"
   ]
  },
  {
   "cell_type": "code",
   "execution_count": 585,
   "metadata": {},
   "outputs": [
    {
     "data": {
      "image/png": "[encoded data removed]",
      "text/plain": [
       "<Figure size 216x288 with 1 Axes>"
      ]
     },
     "metadata": {
      "needs_background": "light"
     },
     "output_type": "display_data"
    }
   ],
   "source": [
    "plt.figure(figsize =(3,4));\n",
    "sns.countplot(x = 'Income', data = train_dataset);\n",
    "plt.xlabel(\"Income\",fontsize = 12);\n",
    "plt.ylabel(\"Frequency\",fontsize = 12);"
   ]
  },
  {
   "cell_type": "markdown",
   "metadata": {},
   "source": [
    "The dataset seems highly imbalanced, we might need to perform oversampling"
   ]
  },
  {
   "cell_type": "markdown",
   "metadata": {},
   "source": [
    "#### Dividing the columns into numerical and categorical variables"
   ]
  },
  {
   "cell_type": "code",
   "execution_count": 586,
   "metadata": {},
   "outputs": [],
   "source": [
    "categorical_col = train_dataset.dtypes[train_dataset.dtypes == 'object']\n",
    "numerical_col = train_dataset.dtypes[train_dataset.dtypes != 'object']"
   ]
  },
  {
   "cell_type": "code",
   "execution_count": 587,
   "metadata": {},
   "outputs": [
    {
     "name": "stdout",
     "output_type": "stream",
     "text": [
      "-------Workclass--------\n",
      "Private             26529\n",
      "Self-emp-not-inc     2962\n",
      "Local-gov            2443\n",
      "?                    2222\n",
      "State-gov            1544\n",
      "Self-emp-inc         1314\n",
      "Federal-gov          1107\n",
      "Without-pay            16\n",
      "Never-worked            9\n",
      "Name: WorkClass, dtype: int64\n",
      "-------Education--------\n",
      "HS-grad         12356\n",
      "Some-college     8501\n",
      "Bachelors        6243\n",
      "Masters          2102\n",
      "Assoc-voc        1622\n",
      "11th             1444\n",
      "Assoc-acdm       1260\n",
      "10th             1079\n",
      "7th-8th           735\n",
      "Prof-school       646\n",
      "9th               598\n",
      "12th              501\n",
      "Doctorate         464\n",
      "5th-6th           382\n",
      "1st-4th           195\n",
      "Preschool          64\n",
      "Name: Education, dtype: int64\n",
      "-------Maritalstatus--------\n",
      "Married-civ-spouse       17342\n",
      "Never-married            12664\n",
      "Divorced                  5101\n",
      "Widowed                   1207\n",
      "Separated                 1195\n",
      "Married-spouse-absent      473\n",
      "Married-AF-spouse           29\n",
      "Name: MaritalStatus, dtype: int64\n",
      "-------Occupation--------\n",
      "Prof-specialty       4836\n",
      "Craft-repair         4830\n",
      "Exec-managerial      4726\n",
      "Adm-clerical         4395\n",
      "Sales                4313\n",
      "Other-service        3813\n",
      "Machine-op-inspct    2359\n",
      "?                    2209\n",
      "Transport-moving     1801\n",
      "Handlers-cleaners    1615\n",
      "Farming-fishing      1159\n",
      "Tech-support         1151\n",
      "Protective-serv       772\n",
      "Priv-house-serv       184\n",
      "Armed-Forces           13\n",
      "Name: Occupation, dtype: int64\n",
      "-------Relationship--------\n",
      "Husband           15336\n",
      "Not-in-family      9885\n",
      "Own-child          5962\n",
      "Unmarried          3950\n",
      "Wife               1804\n",
      "Other-relative     1183\n",
      "Name: Relationship, dtype: int64\n",
      "-------Gender--------\n",
      "Male      25506\n",
      "Female    12702\n",
      "Name: Gender, dtype: int64\n",
      "-------Nativecountry--------\n",
      "United-States                 34265\n",
      "Mexico                          744\n",
      "?                               667\n",
      "Philippines                     234\n",
      "Germany                         153\n",
      "Puerto-Rico                     144\n",
      "Canada                          142\n",
      "India                           127\n",
      "El-Salvador                     118\n",
      "Cuba                            109\n",
      "China                           106\n",
      "England                          99\n",
      "Italy                            85\n",
      "Jamaica                          84\n",
      "Dominican-Republic               83\n",
      "South                            82\n",
      "Japan                            75\n",
      "Vietnam                          74\n",
      "Poland                           70\n",
      "Guatemala                        65\n",
      "Columbia                         64\n",
      "Haiti                            58\n",
      "Portugal                         54\n",
      "Taiwan                           53\n",
      "Iran                             46\n",
      "Nicaragua                        41\n",
      "Greece                           39\n",
      "Peru                             36\n",
      "France                           29\n",
      "Ireland                          29\n",
      "Ecuador                          28\n",
      "Thailand                         27\n",
      "Hong                             23\n",
      "Cambodia                         23\n",
      "Outlying-US(Guam-USVI-etc)       22\n",
      "Trinadad&Tobago                  21\n",
      "Laos                             19\n",
      "Yugoslavia                       19\n",
      "Scotland                         17\n",
      "Hungary                          16\n",
      "Honduras                         15\n",
      "Holand-Netherlands                1\n",
      "Name: NativeCountry, dtype: int64\n",
      "-------Income--------\n",
      "<=50K    31123\n",
      ">50K      9812\n",
      "Name: Income, dtype: int64\n"
     ]
    }
   ],
   "source": [
    "for col in list(categorical_col.index):\n",
    "    print(f\"-------{col.title()}--------\")\n",
    "    total= train_dataset[col].value_counts()\n",
    "    print(total)"
   ]
  },
  {
   "cell_type": "markdown",
   "metadata": {},
   "source": [
    "##### Workclass, Occupation & NativeCountry\n",
    "* Workclass, Occupation & NativeCountry contains special character '?', we will replace it with NaN.\n",
    "\n",
    "##### Education\n",
    "* For Education we can merge 'HS-grad','11th','10th','9th','12th' into one set of category as 'High school graduates' and '1st-4th','5th-6th','7th-8th' into another set of category as 'elementary'.\n",
    "\n",
    "##### Maritialstatus\n",
    "* For Maritialstatus we can merge 'Married-spouse-absent','Married-civ-spouse','Married-AF-spouse' into one set of category as 'Married' and 'Separated','Divorced' into another set of category as 'seprated'.\n",
    "\n",
    "##### NativeCountry\n",
    "* The NativeCountry has 41 different countries in it. If we build a logistic regression with “native_country” and apply One hot Encoding we will end up with 40 additional columns. This will complicate the analysis and might lead to overfitting. Hence, it is better to group the native countries into several global regions."
   ]
  },
  {
   "cell_type": "markdown",
   "metadata": {},
   "source": [
    "#### Defining function for code reusibility"
   ]
  },
  {
   "cell_type": "code",
   "execution_count": 638,
   "metadata": {},
   "outputs": [],
   "source": [
    "# Function for replacing '?' with NaN\n",
    "def rep(df,new_col):\n",
    "    for col in new_col:\n",
    "        df.loc[df[col] == '?', col] = 'NaN'\n",
    "\n",
    "# Function for categorizing into elementary and High school graduates\n",
    "def hs(df,new_col):\n",
    "    for col in new_col:\n",
    "        df['Education'].replace(to_replace = hight_school_grad,value = 'High-school-grad',inplace = True)\n",
    "        \n",
    "def ele(df,new_col):\n",
    "    for col in new_col:\n",
    "        df['Education'].replace(to_replace = elementary,value = 'elementary-school',inplace = True)\n",
    "\n",
    "# Function for categorining into Married & Seprated\n",
    "def mar(df,new_col):\n",
    "    for col in new_col:\n",
    "        df['MaritalStatus'].replace(to_replace = married ,value = 'Married',inplace = True)\n",
    "        \n",
    "def sep(df,new_col):\n",
    "    for col in new_col:      \n",
    "        df['MaritalStatus'].replace(to_replace = separated,value = 'Separated',inplace = True)\n",
    "\n",
    "# Function for categorizing country into US and Non US\n",
    "def country(df):\n",
    "    if df['NativeCountry'] in Asia_East:\n",
    "            return 'East_Asia'\n",
    "    elif df['NativeCountry'] in Asia_Central:\n",
    "            return 'Central_Asia'\n",
    "    elif df['NativeCountry'] in Central_America:\n",
    "            return 'Central_America'\n",
    "    elif df['NativeCountry'] in South_America:\n",
    "            return 'South_America'\n",
    "    elif df['NativeCountry'] in Europe_West:\n",
    "            return 'Europe_West'\n",
    "    elif df['NativeCountry'] in Europe_East:\n",
    "            return 'Europe_East'\n",
    "    elif df['NativeCountry'] == 'United-States':\n",
    "            return 'United_States'"
   ]
  },
  {
   "cell_type": "markdown",
   "metadata": {},
   "source": [
    "#### a. Dealing with categorical data"
   ]
  },
  {
   "cell_type": "markdown",
   "metadata": {},
   "source": [
    "###### Workclass, Occupation & NativeCountry \n",
    "Replacing '?' with NaN for Workclass, Occupation & NativeCountry columns"
   ]
  },
  {
   "cell_type": "code",
   "execution_count": 625,
   "metadata": {},
   "outputs": [],
   "source": [
    "new_cat_col = ['WorkClass', 'Occupation', 'NativeCountry']\n",
    "rep(train_dataset, new_cat_col)\n",
    "rep(test_dataset, new_cat_col)"
   ]
  },
  {
   "cell_type": "markdown",
   "metadata": {},
   "source": [
    "###### Education\n",
    "Merging 'HS-grad','11th','10th','9th','12th' categories into High school graduates and '1st-4th','5th-6th','7th-8th' into elementary for Education column"
   ]
  },
  {
   "cell_type": "code",
   "execution_count": 626,
   "metadata": {},
   "outputs": [],
   "source": [
    "hight_school_grad = ['HS-grad','11th','10th','9th','12th']\n",
    "elementary = ['1st-4th','5th-6th','7th-8th']\n",
    "\n",
    "hs(train_dataset,hight_school_grad)\n",
    "ele(train_dataset,elementary)\n",
    "hs(test_dataset,hight_school_grad)\n",
    "ele(test_dataset,elementary)"
   ]
  },
  {
   "cell_type": "code",
   "execution_count": 627,
   "metadata": {},
   "outputs": [
    {
     "data": {
      "image/png": "[encoded data removed]",
      "text/plain": [
       "<Figure size 1080x432 with 1 Axes>"
      ]
     },
     "metadata": {
      "needs_background": "light"
     },
     "output_type": "display_data"
    }
   ],
   "source": [
    "labels = train_dataset.Education.unique()\n",
    "l = labels.tolist()\n",
    "cleanedList = [x for x in l if str(x) != 'nan']\n",
    "sizes = train_dataset.Education.value_counts()\n",
    "\n",
    "explode = (0, 0, 0.1, 0,0,0,0,0,0,0)\n",
    "fig1, ax1 = plt.subplots()\n",
    "ax1.pie(sizes, explode=explode, labels=cleanedList, autopct='%1.1f%%',\n",
    "        shadow=True, startangle=30, frame=True)\n",
    "plt.subplots_adjust(left=0.0, bottom=0.1, right=0.45)\n",
    "ax1.axis('equal') \n",
    "plt.title(\"Education Distribution\")\n",
    "fig = plt.gcf()\n",
    "fig.set_size_inches(15,6)\n",
    "plt.show()"
   ]
  },
  {
   "cell_type": "markdown",
   "metadata": {},
   "source": [
    "##### Below table shows the Education code for each type of Education"
   ]
  },
  {
   "cell_type": "code",
   "execution_count": 641,
   "metadata": {},
   "outputs": [
    {
     "data": {
      "text/html": [
       "<div>\n",
       "<style scoped>\n",
       "    .dataframe tbody tr th:only-of-type {\n",
       "        vertical-align: middle;\n",
       "    }\n",
       "\n",
       "    .dataframe tbody tr th {\n",
       "        vertical-align: top;\n",
       "    }\n",
       "\n",
       "    .dataframe thead th {\n",
       "        text-align: right;\n",
       "    }\n",
       "</style>\n",
       "<table border=\"1\" class=\"dataframe\">\n",
       "  <thead>\n",
       "    <tr style=\"text-align: right;\">\n",
       "      <th></th>\n",
       "      <th>EducationNum</th>\n",
       "    </tr>\n",
       "    <tr>\n",
       "      <th>Education</th>\n",
       "      <th></th>\n",
       "    </tr>\n",
       "  </thead>\n",
       "  <tbody>\n",
       "    <tr>\n",
       "      <th>Preschool</th>\n",
       "      <td>1.0</td>\n",
       "    </tr>\n",
       "    <tr>\n",
       "      <th>elementary-school</th>\n",
       "      <td>2.0</td>\n",
       "    </tr>\n",
       "    <tr>\n",
       "      <th>elementary-school</th>\n",
       "      <td>3.0</td>\n",
       "    </tr>\n",
       "    <tr>\n",
       "      <th>elementary-school</th>\n",
       "      <td>4.0</td>\n",
       "    </tr>\n",
       "    <tr>\n",
       "      <th>High-school-grad</th>\n",
       "      <td>5.0</td>\n",
       "    </tr>\n",
       "    <tr>\n",
       "      <th>High-school-grad</th>\n",
       "      <td>6.0</td>\n",
       "    </tr>\n",
       "    <tr>\n",
       "      <th>High-school-grad</th>\n",
       "      <td>7.0</td>\n",
       "    </tr>\n",
       "    <tr>\n",
       "      <th>High-school-grad</th>\n",
       "      <td>8.0</td>\n",
       "    </tr>\n",
       "    <tr>\n",
       "      <th>High-school-grad</th>\n",
       "      <td>9.0</td>\n",
       "    </tr>\n",
       "    <tr>\n",
       "      <th>Some-college</th>\n",
       "      <td>10.0</td>\n",
       "    </tr>\n",
       "    <tr>\n",
       "      <th>Assoc-voc</th>\n",
       "      <td>11.0</td>\n",
       "    </tr>\n",
       "    <tr>\n",
       "      <th>Assoc-acdm</th>\n",
       "      <td>12.0</td>\n",
       "    </tr>\n",
       "    <tr>\n",
       "      <th>Bachelors</th>\n",
       "      <td>13.0</td>\n",
       "    </tr>\n",
       "    <tr>\n",
       "      <th>Masters</th>\n",
       "      <td>14.0</td>\n",
       "    </tr>\n",
       "    <tr>\n",
       "      <th>Prof-school</th>\n",
       "      <td>15.0</td>\n",
       "    </tr>\n",
       "    <tr>\n",
       "      <th>Doctorate</th>\n",
       "      <td>16.0</td>\n",
       "    </tr>\n",
       "  </tbody>\n",
       "</table>\n",
       "</div>"
      ],
      "text/plain": [
       "                   EducationNum\n",
       "Education                      \n",
       "Preschool                   1.0\n",
       "elementary-school           2.0\n",
       "elementary-school           3.0\n",
       "elementary-school           4.0\n",
       "High-school-grad            5.0\n",
       "High-school-grad            6.0\n",
       "High-school-grad            7.0\n",
       "High-school-grad            8.0\n",
       "High-school-grad            9.0\n",
       "Some-college               10.0\n",
       "Assoc-voc                  11.0\n",
       "Assoc-acdm                 12.0\n",
       "Bachelors                  13.0\n",
       "Masters                    14.0\n",
       "Prof-school                15.0\n",
       "Doctorate                  16.0"
      ]
     },
     "execution_count": 641,
     "metadata": {},
     "output_type": "execute_result"
    }
   ],
   "source": [
    "dup_rec = train_dataset[['Education','EducationNum']]\n",
    "\n",
    "clean_rec=dup_rec.drop_duplicates(keep='first')\n",
    "clean_rec = clean_rec.dropna(how='any',axis=0)\n",
    "\n",
    "clean_rec.set_index('Education', inplace=True)\n",
    "clean_rec.sort_values('EducationNum') "
   ]
  },
  {
   "cell_type": "markdown",
   "metadata": {},
   "source": [
    "###### Marital Status\n",
    "Merging 'Married-spouse-absent','Married-civ-spouse','Married-AF-spouse' categories into 'Married' and 'Separated','Divorced' categories into 'seprated'"
   ]
  },
  {
   "cell_type": "code",
   "execution_count": 635,
   "metadata": {},
   "outputs": [],
   "source": [
    "married= ['Married-spouse-absent','Married-civ-spouse','Married-AF-spouse']\n",
    "separated = ['Separated','Divorced']\n",
    "\n",
    "mar(train_dataset,married)\n",
    "sep(train_dataset,separated)\n",
    "mar(test_dataset,married)\n",
    "sep(test_dataset,separated)"
   ]
  },
  {
   "cell_type": "code",
   "execution_count": 599,
   "metadata": {},
   "outputs": [
    {
     "data": {
      "image/png": "[encoded data removed]",
      "text/plain": [
       "<Figure size 720x432 with 1 Axes>"
      ]
     },
     "metadata": {
      "needs_background": "light"
     },
     "output_type": "display_data"
    }
   ],
   "source": [
    "labels = train_dataset.MaritalStatus.unique()\n",
    "l = labels.tolist()\n",
    "cleanedList = [x for x in l if str(x) != 'nan']\n",
    "sizes = train_dataset.MaritalStatus.value_counts()\n",
    "\n",
    "explode = (0, 0, 0.1, 0)\n",
    "fig1, ax1 = plt.subplots()\n",
    "ax1.pie(sizes, explode=explode, labels=cleanedList, autopct='%1.1f%%',\n",
    "        shadow=True, startangle=30,frame=True)\n",
    "ax1.axis('equal') \n",
    "plt.title(\"Marital Status Distribution\")\n",
    "fig = plt.gcf()\n",
    "fig.set_size_inches(10,6)\n",
    "plt.show()"
   ]
  },
  {
   "cell_type": "markdown",
   "metadata": {},
   "source": [
    "###### Native Region\n",
    "Creating a new Feature named 'Native_Region'"
   ]
  },
  {
   "cell_type": "code",
   "execution_count": 628,
   "metadata": {},
   "outputs": [],
   "source": [
    "Asia_East = [\"Cambodia\", \"China\", \"Hong\", \"Laos\", \"Thailand\", \"Japan\", \"Taiwan\", \"Vietnam\"]\n",
    "\n",
    "Asia_Central = [\"India\", \"Iran\"]\n",
    "\n",
    "Central_America = [\"Cuba\", \"Guatemala\", \"Jamaica\", \"Nicaragua\",\"Puerto-Rico\",  \"Dominican-Republic\", \"El-Salvador\", \"Haiti\", \"Honduras\", \"Mexico\", \"Trinadad&Tobago\"]\n",
    "\n",
    "South_America = [\"Ecuador\", \"Peru\", \"Columbia\"]\n",
    "\n",
    "Europe_West = [\"England\", \"Germany\", \"Holand-Netherlands\", \"Ireland\", \"France\", \"Greece\", \"Italy\", \"Portugal\", \"Scotland\"]\n",
    "\n",
    "Europe_East = [\"Poland\", \"Yugoslavia\", \"Hungary\"]"
   ]
  },
  {
   "cell_type": "code",
   "execution_count": 639,
   "metadata": {},
   "outputs": [
    {
     "data": {
      "text/plain": [
       "United_States      34265\n",
       "Central_America     1482\n",
       "Europe_West          506\n",
       "East_Asia            400\n",
       "Central_Asia         173\n",
       "South_America        128\n",
       "Europe_East          105\n",
       "Name: Native_Region, dtype: int64"
      ]
     },
     "execution_count": 639,
     "metadata": {},
     "output_type": "execute_result"
    }
   ],
   "source": [
    "train_dataset['Native_Region'] = train_dataset.apply(country, axis=1)\n",
    "test_dataset['Native_Region'] = test_dataset.apply(country, axis=1)\n",
    "train_dataset.Native_Region.value_counts()"
   ]
  },
  {
   "cell_type": "markdown",
   "metadata": {},
   "source": [
    "#### b. Dealing with numerical data"
   ]
  },
  {
   "cell_type": "code",
   "execution_count": 519,
   "metadata": {},
   "outputs": [
    {
     "data": {
      "text/plain": [
       "array([[<matplotlib.axes._subplots.AxesSubplot object at 0x000001191EE358D0>,\n",
       "        <matplotlib.axes._subplots.AxesSubplot object at 0x000001191EE54240>],\n",
       "       [<matplotlib.axes._subplots.AxesSubplot object at 0x000001191EE66710>,\n",
       "        <matplotlib.axes._subplots.AxesSubplot object at 0x000001191EE8AC88>],\n",
       "       [<matplotlib.axes._subplots.AxesSubplot object at 0x000001192039B240>,\n",
       "        <matplotlib.axes._subplots.AxesSubplot object at 0x00000119203C37B8>]],\n",
       "      dtype=object)"
      ]
     },
     "execution_count": 519,
     "metadata": {},
     "output_type": "execute_result"
    },
    {
     "data": {
      "image/png": "[encoded data removed]",
      "text/plain": [
       "<Figure size 1152x864 with 6 Axes>"
      ]
     },
     "metadata": {
      "needs_background": "light"
     },
     "output_type": "display_data"
    }
   ],
   "source": [
    "train_dataset[list(numerical_col.index)].hist(figsize = (16,12),bins = 40)"
   ]
  },
  {
   "cell_type": "markdown",
   "metadata": {},
   "source": [
    "##### Age\n",
    "Most the people fall in the age group between 18 to 50 years with the average age of around 38 years.\n",
    "\n",
    "##### CapitalGain & CapitaLoss\n",
    "CapitalGain represents profit from the sale of property or an investment. The average CapitalGain of the population from dataset is around 1700. We might be curious to know how CapitalGain varies with Occupation, Gender, Education, MaritalStatus and WorkingClass.\n",
    "Same goes for CapitalLoss.\n",
    "\n",
    "##### HoursPerWeek\n",
    "Its eveident from the plot that majority of the people work between 30 to 40 hours per week.\n",
    "\n",
    "##### Education\n",
    "Most of the people in the dataset are above 8th and below 12th grade."
   ]
  },
  {
   "cell_type": "markdown",
   "metadata": {},
   "source": [
    "#### Finding the correlation between features\n",
    "\n",
    "From the below correlation matrix we can see that (HoursPerWeek, EducationNum) and (CapitalGain, EducationNum) are highly correlated"
   ]
  },
  {
   "cell_type": "code",
   "execution_count": 520,
   "metadata": {},
   "outputs": [
    {
     "data": {
      "image/png": "[encoded data removed]",
      "text/plain": [
       "<Figure size 576x432 with 2 Axes>"
      ]
     },
     "metadata": {
      "needs_background": "light"
     },
     "output_type": "display_data"
    }
   ],
   "source": [
    "#Finding the correlation between features\n",
    "\n",
    "f,ax=plt.subplots(figsize=(8,6))\n",
    "sns.heatmap(train_dataset.corr(),annot=True,linewidth=.5,fmt=\".2f\",ax=ax,cmap=\"Blues\")\n",
    "plt.title(\"Correlations between features\")\n",
    "plt.show()"
   ]
  },
  {
   "cell_type": "code",
   "execution_count": 521,
   "metadata": {},
   "outputs": [
    {
     "data": {
      "image/png": "[encoded data removed]",
      "text/plain": [
       "<Figure size 1224x432 with 2 Axes>"
      ]
     },
     "metadata": {
      "needs_background": "light"
     },
     "output_type": "display_data"
    }
   ],
   "source": [
    "table_occu = pd.crosstab(train_dataset['Occupation'], train_dataset['Income'])\n",
    "table_workclass = pd.crosstab(train_dataset['WorkClass'], train_dataset['Income'])\n",
    "table_edu = pd.crosstab(train_dataset['Education'], train_dataset['Income'])\n",
    "table_marital = pd.crosstab(train_dataset['MaritalStatus'], train_dataset['Income'])\n",
    "table_gender = pd.crosstab(train_dataset['Gender'], train_dataset['Income'])\n",
    "table_natcountry = pd.crosstab(train_dataset['NativeCountry'], train_dataset['Income'])\n",
    "table_country = pd.crosstab(train_dataset['Country'], train_dataset['Income'])\n",
    "\n",
    "fig = plt.figure(figsize = (17,6))\n",
    "\n",
    "ax = fig.add_subplot(1,2,1)\n",
    "(table_occu.div(table_occu.sum(axis= 1),axis = 0)*100).sort_values(by= '<=50K').plot(kind = 'bar',ax=ax, color = {'g', 'r'});\n",
    "plt.xlabel(\"Occupation\",fontsize = 14);\n",
    "plt.ylabel('Proportion of People',fontsize = 14);\n",
    "\n",
    "\n",
    "ax = fig.add_subplot(1,2,2)\n",
    "(table_workclass.div(table_workclass.sum(axis = 1),axis = 0)*100).sort_values(by = '<=50K').plot(kind = 'bar',ax=ax, color = 'C0, C2');\n",
    "plt.xlabel(\"Workclass\",fontsize = 14);"
   ]
  },
  {
   "cell_type": "markdown",
   "metadata": {},
   "source": [
    "People who belongs to Exec-managerial category and prof-specialty earns more than 50K per year in compare to people belonging to other categories."
   ]
  },
  {
   "cell_type": "code",
   "execution_count": 522,
   "metadata": {},
   "outputs": [
    {
     "data": {
      "image/png": "[encoded data removed]",
      "text/plain": [
       "<Figure size 1224x432 with 2 Axes>"
      ]
     },
     "metadata": {
      "needs_background": "light"
     },
     "output_type": "display_data"
    }
   ],
   "source": [
    "fig = plt.figure(figsize = (17,6))\n",
    "ax = fig.add_subplot(1,2,1)\n",
    "(table_edu.div(table_edu.sum(axis = 1),axis = 0)*100).sort_values(by = '<=50K').plot(kind = 'bar',ax =ax);\n",
    "plt.xlabel('Education',fontsize = 14);\n",
    "plt.ylabel('Proportion of People',fontsize = 14);\n",
    "\n",
    "\n",
    "ax = fig.add_subplot(1,2,2)\n",
    "(table_marital.div(table_marital.sum(axis = 1),axis = 0)*100).sort_values(by = '<=50K').plot(kind = 'bar',ax = ax);\n",
    "plt.xlabel('Marital Status',fontsize = 14);\n",
    "plt.ylabel('Proportion of People',fontsize = 14);"
   ]
  },
  {
   "cell_type": "markdown",
   "metadata": {},
   "source": [
    "* People who have Doctorate, master’s degree and attended a prof school earns more than 50K per year, whereas people who only attended pre-school earns less than 50K per year.\n",
    "\n",
    "\n",
    "* People who are Married appears to be earning more than 50k per year."
   ]
  },
  {
   "cell_type": "code",
   "execution_count": 523,
   "metadata": {},
   "outputs": [
    {
     "data": {
      "image/png": "[encoded data removed]",
      "text/plain": [
       "<Figure size 1224x432 with 2 Axes>"
      ]
     },
     "metadata": {
      "needs_background": "light"
     },
     "output_type": "display_data"
    }
   ],
   "source": [
    "fig = plt.figure(figsize = (17,6))\n",
    "ax = fig.add_subplot(1,2,1)\n",
    "(table_gender.div(table_gender.sum(axis = 1),axis = 0)*100).sort_values(by = '<=50K').plot(kind = 'bar',ax =ax);\n",
    "plt.xlabel('Gender',fontsize = 14);\n",
    "plt.ylabel('Proportion of People',fontsize = 14);\n",
    "\n",
    "ax = fig.add_subplot(1,2,2)\n",
    "(table_country.div(table_country.sum(axis = 1),axis = 0)*100).sort_values(by = '<=50K').plot(kind = 'bar',ax =ax);\n",
    "plt.xlabel('Country',fontsize = 14);\n",
    "plt.ylabel('Proportion of People',fontsize = 14);"
   ]
  },
  {
   "cell_type": "code",
   "execution_count": 524,
   "metadata": {},
   "outputs": [
    {
     "data": {
      "image/png": "[encoded data removed]",
      "text/plain": [
       "<Figure size 1224x432 with 1 Axes>"
      ]
     },
     "metadata": {
      "needs_background": "light"
     },
     "output_type": "display_data"
    }
   ],
   "source": [
    "table_natcountry = pd.crosstab(train_dataset['NativeCountry'], dataset['Income'])\n",
    "(table_natcountry.div(table_natcountry.sum(axis = 1),axis = 0)*100).sort_values(by = '<=50K').plot(kind = 'bar',stacked = True,figsize = (17,6));\n",
    "plt.xlabel('Native Country',fontsize = 14);\n",
    "plt.ylabel('Proportion of People',fontsize = 14);"
   ]
  },
  {
   "cell_type": "markdown",
   "metadata": {},
   "source": [
    "The top 5 countries which represents people earning more than 50k per year were Yugoslavia, India, Iran, Greece and France."
   ]
  },
  {
   "cell_type": "markdown",
   "metadata": {},
   "source": [
    "##### Exporting the transformed data"
   ]
  },
  {
   "cell_type": "code",
   "execution_count": 766,
   "metadata": {},
   "outputs": [],
   "source": [
    "train_dataset.to_csv(\"/Users/Hemanshu/Documents/train_dataset.csv\", sep = ',')\n",
    "test_dataset.to_csv(\"/Users/Hemanshu/Documents/test_dataset.csv\", sep = ',')"
   ]
  },
  {
   "cell_type": "markdown",
   "metadata": {},
   "source": [
    "### 3. Data preparation\n",
    "\n",
    "Now we will take care of the missing values in our dataset and check for any outliers"
   ]
  },
  {
   "cell_type": "code",
   "execution_count": 3,
   "metadata": {},
   "outputs": [],
   "source": [
    "train_dataset = pd.read_csv('train_dataset.csv')\n",
    "test_dataset = pd.read_csv('test_dataset.csv')"
   ]
  },
  {
   "cell_type": "code",
   "execution_count": 4,
   "metadata": {},
   "outputs": [],
   "source": [
    "#Dropping the Unnamed column which represents index values\n",
    "train_dataset.drop(labels = 'Unnamed: 0' ,axis = 1,inplace = True)\n",
    "test_dataset.drop(labels = 'Unnamed: 0' ,axis = 1,inplace = True)"
   ]
  },
  {
   "cell_type": "code",
   "execution_count": 5,
   "metadata": {},
   "outputs": [
    {
     "data": {
      "text/html": [
       "<div>\n",
       "<style scoped>\n",
       "    .dataframe tbody tr th:only-of-type {\n",
       "        vertical-align: middle;\n",
       "    }\n",
       "\n",
       "    .dataframe tbody tr th {\n",
       "        vertical-align: top;\n",
       "    }\n",
       "\n",
       "    .dataframe thead th {\n",
       "        text-align: right;\n",
       "    }\n",
       "</style>\n",
       "<table border=\"1\" class=\"dataframe\">\n",
       "  <thead>\n",
       "    <tr style=\"text-align: right;\">\n",
       "      <th></th>\n",
       "      <th>Age</th>\n",
       "      <th>WorkClass</th>\n",
       "      <th>fnlwgt</th>\n",
       "      <th>Education</th>\n",
       "      <th>EducationNum</th>\n",
       "      <th>MaritalStatus</th>\n",
       "      <th>Occupation</th>\n",
       "      <th>Relationship</th>\n",
       "      <th>Gender</th>\n",
       "      <th>CapitalGain</th>\n",
       "      <th>CapitalLoss</th>\n",
       "      <th>HoursPerWeek</th>\n",
       "      <th>NativeCountry</th>\n",
       "      <th>Income</th>\n",
       "      <th>Native_Region</th>\n",
       "    </tr>\n",
       "  </thead>\n",
       "  <tbody>\n",
       "    <tr>\n",
       "      <th>0</th>\n",
       "      <td>39.0</td>\n",
       "      <td>State-gov</td>\n",
       "      <td>77516.0</td>\n",
       "      <td>Bachelors</td>\n",
       "      <td>13.0</td>\n",
       "      <td>Never-married</td>\n",
       "      <td>Adm-clerical</td>\n",
       "      <td>Not-in-family</td>\n",
       "      <td>Male</td>\n",
       "      <td>2174.0</td>\n",
       "      <td>0.0</td>\n",
       "      <td>40.0</td>\n",
       "      <td>United-States</td>\n",
       "      <td>&lt;=50K</td>\n",
       "      <td>United_States</td>\n",
       "    </tr>\n",
       "    <tr>\n",
       "      <th>1</th>\n",
       "      <td>50.0</td>\n",
       "      <td>Self-emp-not-inc</td>\n",
       "      <td>83311.0</td>\n",
       "      <td>Bachelors</td>\n",
       "      <td>13.0</td>\n",
       "      <td>Married</td>\n",
       "      <td>NaN</td>\n",
       "      <td>Husband</td>\n",
       "      <td>Male</td>\n",
       "      <td>0.0</td>\n",
       "      <td>0.0</td>\n",
       "      <td>13.0</td>\n",
       "      <td>United-States</td>\n",
       "      <td>&lt;=50K</td>\n",
       "      <td>United_States</td>\n",
       "    </tr>\n",
       "    <tr>\n",
       "      <th>2</th>\n",
       "      <td>38.0</td>\n",
       "      <td>Private</td>\n",
       "      <td>215646.0</td>\n",
       "      <td>High-school-grad</td>\n",
       "      <td>9.0</td>\n",
       "      <td>Separated</td>\n",
       "      <td>Handlers-cleaners</td>\n",
       "      <td>Not-in-family</td>\n",
       "      <td>Male</td>\n",
       "      <td>0.0</td>\n",
       "      <td>0.0</td>\n",
       "      <td>40.0</td>\n",
       "      <td>United-States</td>\n",
       "      <td>&lt;=50K</td>\n",
       "      <td>United_States</td>\n",
       "    </tr>\n",
       "    <tr>\n",
       "      <th>3</th>\n",
       "      <td>53.0</td>\n",
       "      <td>Private</td>\n",
       "      <td>NaN</td>\n",
       "      <td>NaN</td>\n",
       "      <td>7.0</td>\n",
       "      <td>Married</td>\n",
       "      <td>Handlers-cleaners</td>\n",
       "      <td>Husband</td>\n",
       "      <td>Male</td>\n",
       "      <td>0.0</td>\n",
       "      <td>NaN</td>\n",
       "      <td>40.0</td>\n",
       "      <td>United-States</td>\n",
       "      <td>&lt;=50K</td>\n",
       "      <td>United_States</td>\n",
       "    </tr>\n",
       "    <tr>\n",
       "      <th>4</th>\n",
       "      <td>28.0</td>\n",
       "      <td>Private</td>\n",
       "      <td>338409.0</td>\n",
       "      <td>Bachelors</td>\n",
       "      <td>13.0</td>\n",
       "      <td>Married</td>\n",
       "      <td>Prof-specialty</td>\n",
       "      <td>Wife</td>\n",
       "      <td>NaN</td>\n",
       "      <td>0.0</td>\n",
       "      <td>0.0</td>\n",
       "      <td>40.0</td>\n",
       "      <td>Cuba</td>\n",
       "      <td>&lt;=50K</td>\n",
       "      <td>Central_America</td>\n",
       "    </tr>\n",
       "  </tbody>\n",
       "</table>\n",
       "</div>"
      ],
      "text/plain": [
       "    Age         WorkClass    fnlwgt         Education  EducationNum  \\\n",
       "0  39.0         State-gov   77516.0         Bachelors          13.0   \n",
       "1  50.0  Self-emp-not-inc   83311.0         Bachelors          13.0   \n",
       "2  38.0           Private  215646.0  High-school-grad           9.0   \n",
       "3  53.0           Private       NaN               NaN           7.0   \n",
       "4  28.0           Private  338409.0         Bachelors          13.0   \n",
       "\n",
       "   MaritalStatus         Occupation   Relationship Gender  CapitalGain  \\\n",
       "0  Never-married       Adm-clerical  Not-in-family   Male       2174.0   \n",
       "1        Married                NaN        Husband   Male          0.0   \n",
       "2      Separated  Handlers-cleaners  Not-in-family   Male          0.0   \n",
       "3        Married  Handlers-cleaners        Husband   Male          0.0   \n",
       "4        Married     Prof-specialty           Wife    NaN          0.0   \n",
       "\n",
       "   CapitalLoss  HoursPerWeek  NativeCountry Income    Native_Region  \n",
       "0          0.0          40.0  United-States  <=50K    United_States  \n",
       "1          0.0          13.0  United-States  <=50K    United_States  \n",
       "2          0.0          40.0  United-States  <=50K    United_States  \n",
       "3          NaN          40.0  United-States  <=50K    United_States  \n",
       "4          0.0          40.0           Cuba  <=50K  Central_America  "
      ]
     },
     "execution_count": 5,
     "metadata": {},
     "output_type": "execute_result"
    }
   ],
   "source": [
    "train_dataset.head()"
   ]
  },
  {
   "cell_type": "code",
   "execution_count": 6,
   "metadata": {},
   "outputs": [],
   "source": [
    "train_dataset.replace({'0':np.nan, 0:np.nan}, inplace=True)"
   ]
  },
  {
   "cell_type": "markdown",
   "metadata": {},
   "source": [
    "##### 1. Age"
   ]
  },
  {
   "cell_type": "code",
   "execution_count": 7,
   "metadata": {},
   "outputs": [
    {
     "data": {
      "image/png": "[encoded data removed]",
      "text/plain": [
       "<Figure size 1080x360 with 2 Axes>"
      ]
     },
     "metadata": {
      "needs_background": "light"
     },
     "output_type": "display_data"
    }
   ],
   "source": [
    "# Plot Distribution of Age (Missing)\n",
    "plt.subplot(1, 2, 1)\n",
    "train_dataset['Age'].hist(bins=20, figsize=(15,5), edgecolor='white')\n",
    "plt.xlabel('Age', fontsize=12)\n",
    "plt.title('Distribution of Age (Missing)', fontsize=18)\n",
    "\n",
    "# Plot Distribution of Age (Imputed Mode)\n",
    "plt.subplot(1, 2, 2)\n",
    "mean_age = pd.DataFrame(train_dataset['Age'].fillna(train_dataset.Age.mean()))\n",
    "mean_age['Age'].hist(bins=20, figsize=(15,5), edgecolor='white', color='r')\n",
    "plt.xlabel('Age', fontsize=12)\n",
    "plt.title('Distribution of Age (Imputed Mean)', fontsize=18)\n",
    "\n",
    "plt.show()"
   ]
  },
  {
   "cell_type": "code",
   "execution_count": 8,
   "metadata": {},
   "outputs": [],
   "source": [
    "# Fill in the missing age with the mean \n",
    "train_dataset['Age'] = pd.DataFrame(train_dataset['Age'].fillna(train_dataset.Age.mean()))\n",
    "test_dataset['Age'] = pd.DataFrame(test_dataset['Age'].fillna(test_dataset.Age.mean()))"
   ]
  },
  {
   "cell_type": "markdown",
   "metadata": {},
   "source": [
    "##### 2. HoursPerWeek"
   ]
  },
  {
   "cell_type": "code",
   "execution_count": 9,
   "metadata": {},
   "outputs": [
    {
     "data": {
      "image/png": "[encoded data removed]",
      "text/plain": [
       "<Figure size 1440x432 with 1 Axes>"
      ]
     },
     "metadata": {
      "needs_background": "light"
     },
     "output_type": "display_data"
    }
   ],
   "source": [
    "# Creating a scatter plot between HoursPerWeek and Age\n",
    "\n",
    "plt.rcParams['axes.facecolor'] = 'w'\n",
    "train_dataset.plot(kind=\"scatter\",x=\"Age\",y=\"HoursPerWeek\",color=\"green\",figsize=(20,6))\n",
    "plt.title(\"Scatter Plot between HoursPerWeek and Age\")\n",
    "plt.xlabel(\"Age\")\n",
    "plt.ylabel(\"HoursPerWeek\")\n",
    "plt.show()"
   ]
  },
  {
   "cell_type": "markdown",
   "metadata": {},
   "source": [
    "From the above scatter plot we can see that there are elder people with age >=90 working for more than 90 hours, which seems unrelistic and hence we can consider them as outlier and can remove from our dataset."
   ]
  },
  {
   "cell_type": "markdown",
   "metadata": {},
   "source": [
    "##### Removing outliers"
   ]
  },
  {
   "cell_type": "code",
   "execution_count": 10,
   "metadata": {},
   "outputs": [
    {
     "name": "stdout",
     "output_type": "stream",
     "text": [
      "Number of people with age >= 90 working more than 90 hours per week: 2\n"
     ]
    },
    {
     "data": {
      "text/html": [
       "<div>\n",
       "<style scoped>\n",
       "    .dataframe tbody tr th:only-of-type {\n",
       "        vertical-align: middle;\n",
       "    }\n",
       "\n",
       "    .dataframe tbody tr th {\n",
       "        vertical-align: top;\n",
       "    }\n",
       "\n",
       "    .dataframe thead th {\n",
       "        text-align: right;\n",
       "    }\n",
       "</style>\n",
       "<table border=\"1\" class=\"dataframe\">\n",
       "  <thead>\n",
       "    <tr style=\"text-align: right;\">\n",
       "      <th></th>\n",
       "      <th>Age</th>\n",
       "      <th>WorkClass</th>\n",
       "      <th>fnlwgt</th>\n",
       "      <th>Education</th>\n",
       "      <th>EducationNum</th>\n",
       "      <th>MaritalStatus</th>\n",
       "      <th>Occupation</th>\n",
       "      <th>Relationship</th>\n",
       "      <th>Gender</th>\n",
       "      <th>CapitalGain</th>\n",
       "      <th>CapitalLoss</th>\n",
       "      <th>HoursPerWeek</th>\n",
       "      <th>NativeCountry</th>\n",
       "      <th>Income</th>\n",
       "      <th>Native_Region</th>\n",
       "    </tr>\n",
       "  </thead>\n",
       "  <tbody>\n",
       "    <tr>\n",
       "      <th>12353</th>\n",
       "      <td>90.0</td>\n",
       "      <td>Private</td>\n",
       "      <td>90523.0</td>\n",
       "      <td>NaN</td>\n",
       "      <td>9.0</td>\n",
       "      <td>NaN</td>\n",
       "      <td>Transport-moving</td>\n",
       "      <td>Unmarried</td>\n",
       "      <td>Male</td>\n",
       "      <td>NaN</td>\n",
       "      <td>NaN</td>\n",
       "      <td>99.0</td>\n",
       "      <td>United-States</td>\n",
       "      <td>&lt;=50K</td>\n",
       "      <td>United_States</td>\n",
       "    </tr>\n",
       "    <tr>\n",
       "      <th>34644</th>\n",
       "      <td>90.0</td>\n",
       "      <td>Federal-gov</td>\n",
       "      <td>311184.0</td>\n",
       "      <td>Masters</td>\n",
       "      <td>14.0</td>\n",
       "      <td>Separated</td>\n",
       "      <td>Prof-specialty</td>\n",
       "      <td>Not-in-family</td>\n",
       "      <td>Male</td>\n",
       "      <td>NaN</td>\n",
       "      <td>NaN</td>\n",
       "      <td>99.0</td>\n",
       "      <td>United-States</td>\n",
       "      <td>&lt;=50K</td>\n",
       "      <td>United_States</td>\n",
       "    </tr>\n",
       "  </tbody>\n",
       "</table>\n",
       "</div>"
      ],
      "text/plain": [
       "        Age    WorkClass    fnlwgt Education  EducationNum MaritalStatus  \\\n",
       "12353  90.0      Private   90523.0       NaN           9.0           NaN   \n",
       "34644  90.0  Federal-gov  311184.0   Masters          14.0     Separated   \n",
       "\n",
       "             Occupation   Relationship Gender  CapitalGain  CapitalLoss  \\\n",
       "12353  Transport-moving      Unmarried   Male          NaN          NaN   \n",
       "34644    Prof-specialty  Not-in-family   Male          NaN          NaN   \n",
       "\n",
       "       HoursPerWeek  NativeCountry Income  Native_Region  \n",
       "12353          99.0  United-States  <=50K  United_States  \n",
       "34644          99.0  United-States  <=50K  United_States  "
      ]
     },
     "execution_count": 10,
     "metadata": {},
     "output_type": "execute_result"
    }
   ],
   "source": [
    "work_age = train_dataset.loc[(train_dataset['HoursPerWeek']>=90) & (train_dataset['Age'] >= 90)] \n",
    "print(\"Number of people with age >= 90 working more than 90 hours per week:\", work_age.shape[0])\n",
    "work_age\n",
    "#There was no outlier in test set"
   ]
  },
  {
   "cell_type": "code",
   "execution_count": 11,
   "metadata": {},
   "outputs": [
    {
     "name": "stdout",
     "output_type": "stream",
     "text": [
      "Number of observation before removing (train): (40935, 15)\n",
      "Number of observation after removing (train): (40933, 15)\n"
     ]
    }
   ],
   "source": [
    "# dropping rows for Number of people with age >= 90 working more than 90 hours per week\n",
    "print(\"Number of observation before removing (train):\",train_dataset.shape)\n",
    "work_age = train_dataset.loc[(train_dataset['HoursPerWeek']>=90) & (train_dataset['Age'] >= 90)].index\n",
    "train_dataset.drop(labels = work_age,axis = 0,inplace =True)\n",
    "print(\"Number of observation after removing (train):\",train_dataset.shape)"
   ]
  },
  {
   "cell_type": "code",
   "execution_count": 12,
   "metadata": {},
   "outputs": [
    {
     "data": {
      "image/png": "[encoded data removed]",
      "text/plain": [
       "<Figure size 1080x360 with 2 Axes>"
      ]
     },
     "metadata": {
      "needs_background": "light"
     },
     "output_type": "display_data"
    }
   ],
   "source": [
    "# Plot Distribution of HoursPerWeek (Missing)\n",
    "plt.subplot(1, 2, 1)\n",
    "train_dataset['HoursPerWeek'].hist(bins=20, figsize=(15,5), edgecolor='white')\n",
    "plt.xlabel('HoursPerWeek', fontsize=12)\n",
    "plt.title('Distribution of HoursPerWeek (Missing)', fontsize=18)\n",
    "\n",
    "# Plot Distribution of HoursPerWeek (Imputed Mean)\n",
    "plt.subplot(1, 2, 2)\n",
    "mean_hr = pd.DataFrame(train_dataset['HoursPerWeek'].fillna(train_dataset.HoursPerWeek.mean()))\n",
    "mean_hr['HoursPerWeek'].hist(bins=20, figsize=(15,5), edgecolor='white', color='r')\n",
    "plt.xlabel('HoursPerWeek', fontsize=12)\n",
    "plt.title('Distribution of HoursPerWeek (Imputed Mean)', fontsize=18)\n",
    "\n",
    "plt.show()"
   ]
  },
  {
   "cell_type": "markdown",
   "metadata": {},
   "source": [
    "##### Imputing missing values with mean"
   ]
  },
  {
   "cell_type": "code",
   "execution_count": 13,
   "metadata": {},
   "outputs": [],
   "source": [
    "# Fill in the missing HoursPerWeek with the mean \n",
    "train_dataset['HoursPerWeek'] = pd.DataFrame(train_dataset['HoursPerWeek'].fillna(train_dataset.HoursPerWeek.mean()))\n",
    "test_dataset['HoursPerWeek'] = pd.DataFrame(test_dataset['HoursPerWeek'].fillna(test_dataset.HoursPerWeek.mean()))"
   ]
  },
  {
   "cell_type": "markdown",
   "metadata": {},
   "source": [
    "#### 3. Capital Gain"
   ]
  },
  {
   "cell_type": "code",
   "execution_count": 14,
   "metadata": {},
   "outputs": [
    {
     "data": {
      "image/png": "[encoded data removed]",
      "text/plain": [
       "<Figure size 1440x432 with 1 Axes>"
      ]
     },
     "metadata": {
      "needs_background": "light"
     },
     "output_type": "display_data"
    }
   ],
   "source": [
    "# Creating a scatter plot between CapitalGain and Age\n",
    "\n",
    "plt.rcParams['axes.facecolor'] = 'w'\n",
    "train_dataset.plot(kind=\"scatter\",x=\"Age\",y=\"CapitalGain\",color=\"black\",figsize=(20,6))\n",
    "plt.title(\"Scatter Plot between CapitalGain and Age\")\n",
    "plt.xlabel(\"Age\")\n",
    "plt.ylabel(\"CapitalGain\")\n",
    "plt.show()"
   ]
  },
  {
   "cell_type": "markdown",
   "metadata": {},
   "source": [
    "From the above scatter plot we can see that Capital gain of $9999 doesn't follow any pattern and is clearly an outlier. Hence, we can remove it from the dataset."
   ]
  },
  {
   "cell_type": "code",
   "execution_count": 15,
   "metadata": {},
   "outputs": [
    {
     "name": "stdout",
     "output_type": "stream",
     "text": [
      "Number of people with CapitalGain above $9999 (train): 891\n",
      "Number of people with CapitalGain above $9999 (test): 102\n"
     ]
    }
   ],
   "source": [
    "cap_age_tr = train_dataset.loc[(train_dataset['CapitalGain']>=9999)] \n",
    "print(\"Number of people with CapitalGain above $9999 (train):\", cap_age_tr.shape[0])\n",
    "cap_age_ts = test_dataset.loc[(test_dataset['CapitalGain']>=9999)] \n",
    "print(\"Number of people with CapitalGain above $9999 (test):\", cap_age_ts.shape[0])"
   ]
  },
  {
   "cell_type": "code",
   "execution_count": 16,
   "metadata": {},
   "outputs": [
    {
     "name": "stdout",
     "output_type": "stream",
     "text": [
      "Number of observation before removing (train): (40933, 15)\n",
      "Number of observation after removing (train): (40042, 15)\n",
      "Number of observation before removing (test): (4884, 14)\n",
      "Number of observation after removing (test): (4782, 14)\n"
     ]
    }
   ],
   "source": [
    "# dropping rows for Number of people with CapitalGain above $9999\n",
    "print(\"Number of observation before removing (train):\",train_dataset.shape)\n",
    "cap_age_tr = train_dataset.loc[(train_dataset['CapitalGain']>=9999)].index\n",
    "train_dataset.drop(labels = cap_age_tr,axis = 0,inplace =True)\n",
    "print(\"Number of observation after removing (train):\",train_dataset.shape)\n",
    "\n",
    "print(\"Number of observation before removing (test):\",test_dataset.shape)\n",
    "cap_age_tr = test_dataset.loc[(test_dataset['CapitalGain']>=9999)].index\n",
    "test_dataset.drop(labels = cap_age_tr,axis = 0,inplace =True)\n",
    "print(\"Number of observation after removing (test):\",test_dataset.shape)"
   ]
  },
  {
   "cell_type": "markdown",
   "metadata": {},
   "source": [
    "##### Imputing missing values with mean"
   ]
  },
  {
   "cell_type": "code",
   "execution_count": 18,
   "metadata": {},
   "outputs": [],
   "source": [
    "# Fill in the missing HoursPerWeek with the mean \n",
    "train_dataset['CapitalGain'] = pd.DataFrame(train_dataset['CapitalGain'].fillna(train_dataset.CapitalGain.mean()))\n",
    "test_dataset['CapitalGain'] = pd.DataFrame(test_dataset['CapitalGain'].fillna(test_dataset.CapitalGain.mean()))"
   ]
  },
  {
   "cell_type": "markdown",
   "metadata": {},
   "source": [
    "#### 4. CapitalLoss"
   ]
  },
  {
   "cell_type": "code",
   "execution_count": 19,
   "metadata": {},
   "outputs": [
    {
     "data": {
      "image/png": "[encoded data removed]",
      "text/plain": [
       "<Figure size 1440x432 with 1 Axes>"
      ]
     },
     "metadata": {
      "needs_background": "light"
     },
     "output_type": "display_data"
    }
   ],
   "source": [
    "# Creating a scatter plot between CapitalGain and Age\n",
    "\n",
    "plt.rcParams['axes.facecolor'] = 'w'\n",
    "train_dataset.plot(kind=\"scatter\",x=\"Age\",y=\"CapitalLoss\",color=\"black\",figsize=(20,6))\n",
    "plt.title(\"Scatter Plot between CapitalLoss and Age\")\n",
    "plt.xlabel(\"Age\")\n",
    "plt.ylabel(\"CapitalLoss\")\n",
    "plt.show()"
   ]
  },
  {
   "cell_type": "markdown",
   "metadata": {},
   "source": [
    "CapitalLoss seems to have a good pattern and we can't see any outlier in this"
   ]
  },
  {
   "cell_type": "code",
   "execution_count": 20,
   "metadata": {},
   "outputs": [
    {
     "data": {
      "image/png": "[encoded data removed]",
      "text/plain": [
       "<Figure size 1080x360 with 2 Axes>"
      ]
     },
     "metadata": {
      "needs_background": "light"
     },
     "output_type": "display_data"
    }
   ],
   "source": [
    "# Plot Distribution of CapitalLoss (Missing)\n",
    "plt.subplot(1, 2, 1)\n",
    "train_dataset['CapitalLoss'].hist(bins=20, figsize=(15,5), edgecolor='white')\n",
    "plt.xlabel('CapitalLoss', fontsize=12)\n",
    "plt.title('Distribution of CapitalLoss (Missing)', fontsize=18)\n",
    "\n",
    "# Plot Distribution of CapitalLoss (Imputed Mean)\n",
    "plt.subplot(1, 2, 2)\n",
    "mean_cg = pd.DataFrame(train_dataset['CapitalLoss'].fillna(train_dataset.CapitalLoss.mode()))\n",
    "mean_cg['CapitalLoss'].hist(bins=20, figsize=(15,5), edgecolor='white', color='r')\n",
    "plt.xlabel('CapitalLoss', fontsize=12)\n",
    "plt.title('Distribution of CapitalLoss (Imputed Median)', fontsize=18)\n",
    "\n",
    "plt.show()"
   ]
  },
  {
   "cell_type": "code",
   "execution_count": 21,
   "metadata": {},
   "outputs": [],
   "source": [
    "# Fill in the missing CapitalLoss with the mean \n",
    "train_dataset['CapitalLoss'] = pd.DataFrame(train_dataset['CapitalLoss'].fillna(train_dataset.CapitalLoss.mean()))\n",
    "test_dataset['CapitalLoss'] = pd.DataFrame(test_dataset['CapitalLoss'].fillna(train_dataset.CapitalLoss.mean()))"
   ]
  },
  {
   "cell_type": "markdown",
   "metadata": {},
   "source": [
    "#### Feature Removal\n",
    "\n",
    "1. EducationNum and Education are giving similar information. Relationship and MaritalStatus imply similar information.Hence    keeping only one of the two.\n",
    "2. Not enough information is provided for 'fnlwgt' hence removing it\n",
    "3. Removing NativeCountry, since we have already created new feature name Native Region"
   ]
  },
  {
   "cell_type": "code",
   "execution_count": 22,
   "metadata": {},
   "outputs": [],
   "source": [
    "del_cols = ['Relationship','EducationNum', 'fnlwgt', 'NativeCountry']\n",
    "train_dataset.drop(labels = del_cols,axis = 1,inplace = True)\n",
    "test_dataset.drop(labels = del_cols,axis = 1,inplace = True)"
   ]
  },
  {
   "cell_type": "markdown",
   "metadata": {},
   "source": [
    "### 4. One Hot Encoding the categorical Features"
   ]
  },
  {
   "cell_type": "code",
   "execution_count": 23,
   "metadata": {},
   "outputs": [
    {
     "data": {
      "text/html": [
       "<div>\n",
       "<style scoped>\n",
       "    .dataframe tbody tr th:only-of-type {\n",
       "        vertical-align: middle;\n",
       "    }\n",
       "\n",
       "    .dataframe tbody tr th {\n",
       "        vertical-align: top;\n",
       "    }\n",
       "\n",
       "    .dataframe thead th {\n",
       "        text-align: right;\n",
       "    }\n",
       "</style>\n",
       "<table border=\"1\" class=\"dataframe\">\n",
       "  <thead>\n",
       "    <tr style=\"text-align: right;\">\n",
       "      <th></th>\n",
       "      <th>Age</th>\n",
       "      <th>WorkClass</th>\n",
       "      <th>Education</th>\n",
       "      <th>MaritalStatus</th>\n",
       "      <th>Occupation</th>\n",
       "      <th>Gender</th>\n",
       "      <th>CapitalGain</th>\n",
       "      <th>CapitalLoss</th>\n",
       "      <th>HoursPerWeek</th>\n",
       "      <th>Income</th>\n",
       "      <th>Native_Region</th>\n",
       "    </tr>\n",
       "  </thead>\n",
       "  <tbody>\n",
       "    <tr>\n",
       "      <th>0</th>\n",
       "      <td>39.0</td>\n",
       "      <td>State-gov</td>\n",
       "      <td>Bachelors</td>\n",
       "      <td>Never-married</td>\n",
       "      <td>Adm-clerical</td>\n",
       "      <td>Male</td>\n",
       "      <td>2174.000000</td>\n",
       "      <td>1875.618625</td>\n",
       "      <td>40.0</td>\n",
       "      <td>&lt;=50K</td>\n",
       "      <td>United_States</td>\n",
       "    </tr>\n",
       "    <tr>\n",
       "      <th>1</th>\n",
       "      <td>50.0</td>\n",
       "      <td>Self-emp-not-inc</td>\n",
       "      <td>Bachelors</td>\n",
       "      <td>Married</td>\n",
       "      <td>NaN</td>\n",
       "      <td>Male</td>\n",
       "      <td>4865.785268</td>\n",
       "      <td>1875.618625</td>\n",
       "      <td>13.0</td>\n",
       "      <td>&lt;=50K</td>\n",
       "      <td>United_States</td>\n",
       "    </tr>\n",
       "    <tr>\n",
       "      <th>2</th>\n",
       "      <td>38.0</td>\n",
       "      <td>Private</td>\n",
       "      <td>High-school-grad</td>\n",
       "      <td>Separated</td>\n",
       "      <td>Handlers-cleaners</td>\n",
       "      <td>Male</td>\n",
       "      <td>4865.785268</td>\n",
       "      <td>1875.618625</td>\n",
       "      <td>40.0</td>\n",
       "      <td>&lt;=50K</td>\n",
       "      <td>United_States</td>\n",
       "    </tr>\n",
       "    <tr>\n",
       "      <th>3</th>\n",
       "      <td>53.0</td>\n",
       "      <td>Private</td>\n",
       "      <td>NaN</td>\n",
       "      <td>Married</td>\n",
       "      <td>Handlers-cleaners</td>\n",
       "      <td>Male</td>\n",
       "      <td>4865.785268</td>\n",
       "      <td>1875.618625</td>\n",
       "      <td>40.0</td>\n",
       "      <td>&lt;=50K</td>\n",
       "      <td>United_States</td>\n",
       "    </tr>\n",
       "    <tr>\n",
       "      <th>4</th>\n",
       "      <td>28.0</td>\n",
       "      <td>Private</td>\n",
       "      <td>Bachelors</td>\n",
       "      <td>Married</td>\n",
       "      <td>Prof-specialty</td>\n",
       "      <td>NaN</td>\n",
       "      <td>4865.785268</td>\n",
       "      <td>1875.618625</td>\n",
       "      <td>40.0</td>\n",
       "      <td>&lt;=50K</td>\n",
       "      <td>Central_America</td>\n",
       "    </tr>\n",
       "  </tbody>\n",
       "</table>\n",
       "</div>"
      ],
      "text/plain": [
       "    Age         WorkClass         Education  MaritalStatus         Occupation  \\\n",
       "0  39.0         State-gov         Bachelors  Never-married       Adm-clerical   \n",
       "1  50.0  Self-emp-not-inc         Bachelors        Married                NaN   \n",
       "2  38.0           Private  High-school-grad      Separated  Handlers-cleaners   \n",
       "3  53.0           Private               NaN        Married  Handlers-cleaners   \n",
       "4  28.0           Private         Bachelors        Married     Prof-specialty   \n",
       "\n",
       "  Gender  CapitalGain  CapitalLoss  HoursPerWeek Income    Native_Region  \n",
       "0   Male  2174.000000  1875.618625          40.0  <=50K    United_States  \n",
       "1   Male  4865.785268  1875.618625          13.0  <=50K    United_States  \n",
       "2   Male  4865.785268  1875.618625          40.0  <=50K    United_States  \n",
       "3   Male  4865.785268  1875.618625          40.0  <=50K    United_States  \n",
       "4    NaN  4865.785268  1875.618625          40.0  <=50K  Central_America  "
      ]
     },
     "execution_count": 23,
     "metadata": {},
     "output_type": "execute_result"
    }
   ],
   "source": [
    "train_dataset.head()"
   ]
  },
  {
   "cell_type": "code",
   "execution_count": 24,
   "metadata": {},
   "outputs": [],
   "source": [
    "idx_train= ['Age','WorkClass','Education','MaritalStatus','Occupation','Gender','CapitalGain','CapitalLoss','HoursPerWeek','Native_Region','Income']\n",
    "idx_test= ['Age','WorkClass','Education','MaritalStatus','Occupation','Gender','CapitalGain','CapitalLoss','HoursPerWeek','Native_Region']"
   ]
  },
  {
   "cell_type": "code",
   "execution_count": 25,
   "metadata": {},
   "outputs": [],
   "source": [
    "train_dataset=train_dataset.reindex(columns=idx_train)\n",
    "test_dataset=test_dataset.reindex(columns=idx_test)"
   ]
  },
  {
   "cell_type": "code",
   "execution_count": 31,
   "metadata": {},
   "outputs": [
    {
     "data": {
      "text/html": [
       "<div>\n",
       "<style scoped>\n",
       "    .dataframe tbody tr th:only-of-type {\n",
       "        vertical-align: middle;\n",
       "    }\n",
       "\n",
       "    .dataframe tbody tr th {\n",
       "        vertical-align: top;\n",
       "    }\n",
       "\n",
       "    .dataframe thead th {\n",
       "        text-align: right;\n",
       "    }\n",
       "</style>\n",
       "<table border=\"1\" class=\"dataframe\">\n",
       "  <thead>\n",
       "    <tr style=\"text-align: right;\">\n",
       "      <th></th>\n",
       "      <th>Age</th>\n",
       "      <th>WorkClass</th>\n",
       "      <th>Education</th>\n",
       "      <th>MaritalStatus</th>\n",
       "      <th>Occupation</th>\n",
       "      <th>Gender</th>\n",
       "      <th>CapitalGain</th>\n",
       "      <th>CapitalLoss</th>\n",
       "      <th>HoursPerWeek</th>\n",
       "      <th>Native_Region</th>\n",
       "      <th>Income</th>\n",
       "    </tr>\n",
       "  </thead>\n",
       "  <tbody>\n",
       "    <tr>\n",
       "      <th>0</th>\n",
       "      <td>39.0</td>\n",
       "      <td>State-gov</td>\n",
       "      <td>Bachelors</td>\n",
       "      <td>Never-married</td>\n",
       "      <td>Adm-clerical</td>\n",
       "      <td>Male</td>\n",
       "      <td>2174.000000</td>\n",
       "      <td>1875.618625</td>\n",
       "      <td>40.0</td>\n",
       "      <td>United_States</td>\n",
       "      <td>&lt;=50K</td>\n",
       "    </tr>\n",
       "    <tr>\n",
       "      <th>1</th>\n",
       "      <td>50.0</td>\n",
       "      <td>Self-emp-not-inc</td>\n",
       "      <td>Bachelors</td>\n",
       "      <td>Married</td>\n",
       "      <td>NaN</td>\n",
       "      <td>Male</td>\n",
       "      <td>4865.785268</td>\n",
       "      <td>1875.618625</td>\n",
       "      <td>13.0</td>\n",
       "      <td>United_States</td>\n",
       "      <td>&lt;=50K</td>\n",
       "    </tr>\n",
       "    <tr>\n",
       "      <th>2</th>\n",
       "      <td>38.0</td>\n",
       "      <td>Private</td>\n",
       "      <td>High-school-grad</td>\n",
       "      <td>Separated</td>\n",
       "      <td>Handlers-cleaners</td>\n",
       "      <td>Male</td>\n",
       "      <td>4865.785268</td>\n",
       "      <td>1875.618625</td>\n",
       "      <td>40.0</td>\n",
       "      <td>United_States</td>\n",
       "      <td>&lt;=50K</td>\n",
       "    </tr>\n",
       "    <tr>\n",
       "      <th>3</th>\n",
       "      <td>53.0</td>\n",
       "      <td>Private</td>\n",
       "      <td>NaN</td>\n",
       "      <td>Married</td>\n",
       "      <td>Handlers-cleaners</td>\n",
       "      <td>Male</td>\n",
       "      <td>4865.785268</td>\n",
       "      <td>1875.618625</td>\n",
       "      <td>40.0</td>\n",
       "      <td>United_States</td>\n",
       "      <td>&lt;=50K</td>\n",
       "    </tr>\n",
       "    <tr>\n",
       "      <th>4</th>\n",
       "      <td>28.0</td>\n",
       "      <td>Private</td>\n",
       "      <td>Bachelors</td>\n",
       "      <td>Married</td>\n",
       "      <td>Prof-specialty</td>\n",
       "      <td>NaN</td>\n",
       "      <td>4865.785268</td>\n",
       "      <td>1875.618625</td>\n",
       "      <td>40.0</td>\n",
       "      <td>Central_America</td>\n",
       "      <td>&lt;=50K</td>\n",
       "    </tr>\n",
       "  </tbody>\n",
       "</table>\n",
       "</div>"
      ],
      "text/plain": [
       "    Age         WorkClass         Education  MaritalStatus         Occupation  \\\n",
       "0  39.0         State-gov         Bachelors  Never-married       Adm-clerical   \n",
       "1  50.0  Self-emp-not-inc         Bachelors        Married                NaN   \n",
       "2  38.0           Private  High-school-grad      Separated  Handlers-cleaners   \n",
       "3  53.0           Private               NaN        Married  Handlers-cleaners   \n",
       "4  28.0           Private         Bachelors        Married     Prof-specialty   \n",
       "\n",
       "  Gender  CapitalGain  CapitalLoss  HoursPerWeek    Native_Region Income  \n",
       "0   Male  2174.000000  1875.618625          40.0    United_States  <=50K  \n",
       "1   Male  4865.785268  1875.618625          13.0    United_States  <=50K  \n",
       "2   Male  4865.785268  1875.618625          40.0    United_States  <=50K  \n",
       "3   Male  4865.785268  1875.618625          40.0    United_States  <=50K  \n",
       "4    NaN  4865.785268  1875.618625          40.0  Central_America  <=50K  "
      ]
     },
     "execution_count": 31,
     "metadata": {},
     "output_type": "execute_result"
    }
   ],
   "source": [
    "train_dataset.head()"
   ]
  },
  {
   "cell_type": "code",
   "execution_count": 26,
   "metadata": {},
   "outputs": [
    {
     "data": {
      "text/html": [
       "<div>\n",
       "<style scoped>\n",
       "    .dataframe tbody tr th:only-of-type {\n",
       "        vertical-align: middle;\n",
       "    }\n",
       "\n",
       "    .dataframe tbody tr th {\n",
       "        vertical-align: top;\n",
       "    }\n",
       "\n",
       "    .dataframe thead th {\n",
       "        text-align: right;\n",
       "    }\n",
       "</style>\n",
       "<table border=\"1\" class=\"dataframe\">\n",
       "  <thead>\n",
       "    <tr style=\"text-align: right;\">\n",
       "      <th></th>\n",
       "      <th>Age</th>\n",
       "      <th>CapitalGain</th>\n",
       "      <th>CapitalLoss</th>\n",
       "      <th>HoursPerWeek</th>\n",
       "    </tr>\n",
       "  </thead>\n",
       "  <tbody>\n",
       "    <tr>\n",
       "      <th>0</th>\n",
       "      <td>39.0</td>\n",
       "      <td>2174.000000</td>\n",
       "      <td>1875.618625</td>\n",
       "      <td>40.0</td>\n",
       "    </tr>\n",
       "    <tr>\n",
       "      <th>1</th>\n",
       "      <td>50.0</td>\n",
       "      <td>4865.785268</td>\n",
       "      <td>1875.618625</td>\n",
       "      <td>13.0</td>\n",
       "    </tr>\n",
       "    <tr>\n",
       "      <th>2</th>\n",
       "      <td>38.0</td>\n",
       "      <td>4865.785268</td>\n",
       "      <td>1875.618625</td>\n",
       "      <td>40.0</td>\n",
       "    </tr>\n",
       "    <tr>\n",
       "      <th>3</th>\n",
       "      <td>53.0</td>\n",
       "      <td>4865.785268</td>\n",
       "      <td>1875.618625</td>\n",
       "      <td>40.0</td>\n",
       "    </tr>\n",
       "    <tr>\n",
       "      <th>4</th>\n",
       "      <td>28.0</td>\n",
       "      <td>4865.785268</td>\n",
       "      <td>1875.618625</td>\n",
       "      <td>40.0</td>\n",
       "    </tr>\n",
       "  </tbody>\n",
       "</table>\n",
       "</div>"
      ],
      "text/plain": [
       "    Age  CapitalGain  CapitalLoss  HoursPerWeek\n",
       "0  39.0  2174.000000  1875.618625          40.0\n",
       "1  50.0  4865.785268  1875.618625          13.0\n",
       "2  38.0  4865.785268  1875.618625          40.0\n",
       "3  53.0  4865.785268  1875.618625          40.0\n",
       "4  28.0  4865.785268  1875.618625          40.0"
      ]
     },
     "execution_count": 26,
     "metadata": {},
     "output_type": "execute_result"
    }
   ],
   "source": [
    "new_num_col_tr = train_dataset[['Age','CapitalGain', 'CapitalLoss', 'HoursPerWeek']]\n",
    "new_num_col_ts = test_dataset[['Age','CapitalGain', 'CapitalLoss', 'HoursPerWeek']]\n",
    "new_num_col_tr.head()"
   ]
  },
  {
   "cell_type": "markdown",
   "metadata": {},
   "source": [
    "We will we using OneHotEncoder for all our categorical features in order to convert them into dummy varibales"
   ]
  },
  {
   "cell_type": "code",
   "execution_count": 27,
   "metadata": {},
   "outputs": [
    {
     "data": {
      "text/html": [
       "<div>\n",
       "<style scoped>\n",
       "    .dataframe tbody tr th:only-of-type {\n",
       "        vertical-align: middle;\n",
       "    }\n",
       "\n",
       "    .dataframe tbody tr th {\n",
       "        vertical-align: top;\n",
       "    }\n",
       "\n",
       "    .dataframe thead th {\n",
       "        text-align: right;\n",
       "    }\n",
       "</style>\n",
       "<table border=\"1\" class=\"dataframe\">\n",
       "  <thead>\n",
       "    <tr style=\"text-align: right;\">\n",
       "      <th></th>\n",
       "      <th>WorkClass_Federal-gov</th>\n",
       "      <th>WorkClass_Local-gov</th>\n",
       "      <th>WorkClass_Never-worked</th>\n",
       "      <th>WorkClass_Private</th>\n",
       "      <th>WorkClass_Self-emp-inc</th>\n",
       "      <th>WorkClass_Self-emp-not-inc</th>\n",
       "      <th>WorkClass_State-gov</th>\n",
       "      <th>WorkClass_Without-pay</th>\n",
       "      <th>Education_Assoc-acdm</th>\n",
       "      <th>Education_Assoc-voc</th>\n",
       "      <th>...</th>\n",
       "      <th>Occupation_Transport-moving</th>\n",
       "      <th>Gender_Female</th>\n",
       "      <th>Gender_Male</th>\n",
       "      <th>Native_Region_Central_America</th>\n",
       "      <th>Native_Region_Central_Asia</th>\n",
       "      <th>Native_Region_East_Asia</th>\n",
       "      <th>Native_Region_Europe_East</th>\n",
       "      <th>Native_Region_Europe_West</th>\n",
       "      <th>Native_Region_South_America</th>\n",
       "      <th>Native_Region_United_States</th>\n",
       "    </tr>\n",
       "  </thead>\n",
       "  <tbody>\n",
       "    <tr>\n",
       "      <th>0</th>\n",
       "      <td>0</td>\n",
       "      <td>0</td>\n",
       "      <td>0</td>\n",
       "      <td>0</td>\n",
       "      <td>0</td>\n",
       "      <td>0</td>\n",
       "      <td>1</td>\n",
       "      <td>0</td>\n",
       "      <td>0</td>\n",
       "      <td>0</td>\n",
       "      <td>...</td>\n",
       "      <td>0</td>\n",
       "      <td>0</td>\n",
       "      <td>1</td>\n",
       "      <td>0</td>\n",
       "      <td>0</td>\n",
       "      <td>0</td>\n",
       "      <td>0</td>\n",
       "      <td>0</td>\n",
       "      <td>0</td>\n",
       "      <td>1</td>\n",
       "    </tr>\n",
       "    <tr>\n",
       "      <th>1</th>\n",
       "      <td>0</td>\n",
       "      <td>0</td>\n",
       "      <td>0</td>\n",
       "      <td>0</td>\n",
       "      <td>0</td>\n",
       "      <td>1</td>\n",
       "      <td>0</td>\n",
       "      <td>0</td>\n",
       "      <td>0</td>\n",
       "      <td>0</td>\n",
       "      <td>...</td>\n",
       "      <td>0</td>\n",
       "      <td>0</td>\n",
       "      <td>1</td>\n",
       "      <td>0</td>\n",
       "      <td>0</td>\n",
       "      <td>0</td>\n",
       "      <td>0</td>\n",
       "      <td>0</td>\n",
       "      <td>0</td>\n",
       "      <td>1</td>\n",
       "    </tr>\n",
       "    <tr>\n",
       "      <th>2</th>\n",
       "      <td>0</td>\n",
       "      <td>0</td>\n",
       "      <td>0</td>\n",
       "      <td>1</td>\n",
       "      <td>0</td>\n",
       "      <td>0</td>\n",
       "      <td>0</td>\n",
       "      <td>0</td>\n",
       "      <td>0</td>\n",
       "      <td>0</td>\n",
       "      <td>...</td>\n",
       "      <td>0</td>\n",
       "      <td>0</td>\n",
       "      <td>1</td>\n",
       "      <td>0</td>\n",
       "      <td>0</td>\n",
       "      <td>0</td>\n",
       "      <td>0</td>\n",
       "      <td>0</td>\n",
       "      <td>0</td>\n",
       "      <td>1</td>\n",
       "    </tr>\n",
       "    <tr>\n",
       "      <th>3</th>\n",
       "      <td>0</td>\n",
       "      <td>0</td>\n",
       "      <td>0</td>\n",
       "      <td>1</td>\n",
       "      <td>0</td>\n",
       "      <td>0</td>\n",
       "      <td>0</td>\n",
       "      <td>0</td>\n",
       "      <td>0</td>\n",
       "      <td>0</td>\n",
       "      <td>...</td>\n",
       "      <td>0</td>\n",
       "      <td>0</td>\n",
       "      <td>1</td>\n",
       "      <td>0</td>\n",
       "      <td>0</td>\n",
       "      <td>0</td>\n",
       "      <td>0</td>\n",
       "      <td>0</td>\n",
       "      <td>0</td>\n",
       "      <td>1</td>\n",
       "    </tr>\n",
       "    <tr>\n",
       "      <th>4</th>\n",
       "      <td>0</td>\n",
       "      <td>0</td>\n",
       "      <td>0</td>\n",
       "      <td>1</td>\n",
       "      <td>0</td>\n",
       "      <td>0</td>\n",
       "      <td>0</td>\n",
       "      <td>0</td>\n",
       "      <td>0</td>\n",
       "      <td>0</td>\n",
       "      <td>...</td>\n",
       "      <td>0</td>\n",
       "      <td>0</td>\n",
       "      <td>0</td>\n",
       "      <td>1</td>\n",
       "      <td>0</td>\n",
       "      <td>0</td>\n",
       "      <td>0</td>\n",
       "      <td>0</td>\n",
       "      <td>0</td>\n",
       "      <td>0</td>\n",
       "    </tr>\n",
       "  </tbody>\n",
       "</table>\n",
       "<p>5 rows × 45 columns</p>\n",
       "</div>"
      ],
      "text/plain": [
       "   WorkClass_Federal-gov  WorkClass_Local-gov  WorkClass_Never-worked  \\\n",
       "0                      0                    0                       0   \n",
       "1                      0                    0                       0   \n",
       "2                      0                    0                       0   \n",
       "3                      0                    0                       0   \n",
       "4                      0                    0                       0   \n",
       "\n",
       "   WorkClass_Private  WorkClass_Self-emp-inc  WorkClass_Self-emp-not-inc  \\\n",
       "0                  0                       0                           0   \n",
       "1                  0                       0                           1   \n",
       "2                  1                       0                           0   \n",
       "3                  1                       0                           0   \n",
       "4                  1                       0                           0   \n",
       "\n",
       "   WorkClass_State-gov  WorkClass_Without-pay  Education_Assoc-acdm  \\\n",
       "0                    1                      0                     0   \n",
       "1                    0                      0                     0   \n",
       "2                    0                      0                     0   \n",
       "3                    0                      0                     0   \n",
       "4                    0                      0                     0   \n",
       "\n",
       "   Education_Assoc-voc             ...               \\\n",
       "0                    0             ...                \n",
       "1                    0             ...                \n",
       "2                    0             ...                \n",
       "3                    0             ...                \n",
       "4                    0             ...                \n",
       "\n",
       "   Occupation_Transport-moving  Gender_Female  Gender_Male  \\\n",
       "0                            0              0            1   \n",
       "1                            0              0            1   \n",
       "2                            0              0            1   \n",
       "3                            0              0            1   \n",
       "4                            0              0            0   \n",
       "\n",
       "   Native_Region_Central_America  Native_Region_Central_Asia  \\\n",
       "0                              0                           0   \n",
       "1                              0                           0   \n",
       "2                              0                           0   \n",
       "3                              0                           0   \n",
       "4                              1                           0   \n",
       "\n",
       "   Native_Region_East_Asia  Native_Region_Europe_East  \\\n",
       "0                        0                          0   \n",
       "1                        0                          0   \n",
       "2                        0                          0   \n",
       "3                        0                          0   \n",
       "4                        0                          0   \n",
       "\n",
       "   Native_Region_Europe_West  Native_Region_South_America  \\\n",
       "0                          0                            0   \n",
       "1                          0                            0   \n",
       "2                          0                            0   \n",
       "3                          0                            0   \n",
       "4                          0                            0   \n",
       "\n",
       "   Native_Region_United_States  \n",
       "0                            1  \n",
       "1                            1  \n",
       "2                            1  \n",
       "3                            1  \n",
       "4                            0  \n",
       "\n",
       "[5 rows x 45 columns]"
      ]
     },
     "execution_count": 27,
     "metadata": {},
     "output_type": "execute_result"
    }
   ],
   "source": [
    "new_cat_col = ['WorkClass', 'Education', 'MaritalStatus', 'Occupation','Gender', 'Native_Region']\n",
    "\n",
    "dummy_cat_train = pd.get_dummies(train_dataset[new_cat_col])\n",
    "dummy_cat_test= pd.get_dummies(test_dataset[new_cat_col])\n",
    "dummy_cat_train.head()"
   ]
  },
  {
   "cell_type": "markdown",
   "metadata": {},
   "source": [
    "Merging the converted categorical with Numerical variable"
   ]
  },
  {
   "cell_type": "code",
   "execution_count": 28,
   "metadata": {},
   "outputs": [
    {
     "data": {
      "text/html": [
       "<div>\n",
       "<style scoped>\n",
       "    .dataframe tbody tr th:only-of-type {\n",
       "        vertical-align: middle;\n",
       "    }\n",
       "\n",
       "    .dataframe tbody tr th {\n",
       "        vertical-align: top;\n",
       "    }\n",
       "\n",
       "    .dataframe thead th {\n",
       "        text-align: right;\n",
       "    }\n",
       "</style>\n",
       "<table border=\"1\" class=\"dataframe\">\n",
       "  <thead>\n",
       "    <tr style=\"text-align: right;\">\n",
       "      <th></th>\n",
       "      <th>Age</th>\n",
       "      <th>CapitalGain</th>\n",
       "      <th>CapitalLoss</th>\n",
       "      <th>HoursPerWeek</th>\n",
       "      <th>WorkClass_Federal-gov</th>\n",
       "      <th>WorkClass_Local-gov</th>\n",
       "      <th>WorkClass_Never-worked</th>\n",
       "      <th>WorkClass_Private</th>\n",
       "      <th>WorkClass_Self-emp-inc</th>\n",
       "      <th>WorkClass_Self-emp-not-inc</th>\n",
       "      <th>...</th>\n",
       "      <th>Occupation_Transport-moving</th>\n",
       "      <th>Gender_Female</th>\n",
       "      <th>Gender_Male</th>\n",
       "      <th>Native_Region_Central_America</th>\n",
       "      <th>Native_Region_Central_Asia</th>\n",
       "      <th>Native_Region_East_Asia</th>\n",
       "      <th>Native_Region_Europe_East</th>\n",
       "      <th>Native_Region_Europe_West</th>\n",
       "      <th>Native_Region_South_America</th>\n",
       "      <th>Native_Region_United_States</th>\n",
       "    </tr>\n",
       "  </thead>\n",
       "  <tbody>\n",
       "    <tr>\n",
       "      <th>0</th>\n",
       "      <td>39.0</td>\n",
       "      <td>2174.000000</td>\n",
       "      <td>1875.618625</td>\n",
       "      <td>40.0</td>\n",
       "      <td>0</td>\n",
       "      <td>0</td>\n",
       "      <td>0</td>\n",
       "      <td>0</td>\n",
       "      <td>0</td>\n",
       "      <td>0</td>\n",
       "      <td>...</td>\n",
       "      <td>0</td>\n",
       "      <td>0</td>\n",
       "      <td>1</td>\n",
       "      <td>0</td>\n",
       "      <td>0</td>\n",
       "      <td>0</td>\n",
       "      <td>0</td>\n",
       "      <td>0</td>\n",
       "      <td>0</td>\n",
       "      <td>1</td>\n",
       "    </tr>\n",
       "    <tr>\n",
       "      <th>1</th>\n",
       "      <td>50.0</td>\n",
       "      <td>4865.785268</td>\n",
       "      <td>1875.618625</td>\n",
       "      <td>13.0</td>\n",
       "      <td>0</td>\n",
       "      <td>0</td>\n",
       "      <td>0</td>\n",
       "      <td>0</td>\n",
       "      <td>0</td>\n",
       "      <td>1</td>\n",
       "      <td>...</td>\n",
       "      <td>0</td>\n",
       "      <td>0</td>\n",
       "      <td>1</td>\n",
       "      <td>0</td>\n",
       "      <td>0</td>\n",
       "      <td>0</td>\n",
       "      <td>0</td>\n",
       "      <td>0</td>\n",
       "      <td>0</td>\n",
       "      <td>1</td>\n",
       "    </tr>\n",
       "    <tr>\n",
       "      <th>2</th>\n",
       "      <td>38.0</td>\n",
       "      <td>4865.785268</td>\n",
       "      <td>1875.618625</td>\n",
       "      <td>40.0</td>\n",
       "      <td>0</td>\n",
       "      <td>0</td>\n",
       "      <td>0</td>\n",
       "      <td>1</td>\n",
       "      <td>0</td>\n",
       "      <td>0</td>\n",
       "      <td>...</td>\n",
       "      <td>0</td>\n",
       "      <td>0</td>\n",
       "      <td>1</td>\n",
       "      <td>0</td>\n",
       "      <td>0</td>\n",
       "      <td>0</td>\n",
       "      <td>0</td>\n",
       "      <td>0</td>\n",
       "      <td>0</td>\n",
       "      <td>1</td>\n",
       "    </tr>\n",
       "    <tr>\n",
       "      <th>3</th>\n",
       "      <td>53.0</td>\n",
       "      <td>4865.785268</td>\n",
       "      <td>1875.618625</td>\n",
       "      <td>40.0</td>\n",
       "      <td>0</td>\n",
       "      <td>0</td>\n",
       "      <td>0</td>\n",
       "      <td>1</td>\n",
       "      <td>0</td>\n",
       "      <td>0</td>\n",
       "      <td>...</td>\n",
       "      <td>0</td>\n",
       "      <td>0</td>\n",
       "      <td>1</td>\n",
       "      <td>0</td>\n",
       "      <td>0</td>\n",
       "      <td>0</td>\n",
       "      <td>0</td>\n",
       "      <td>0</td>\n",
       "      <td>0</td>\n",
       "      <td>1</td>\n",
       "    </tr>\n",
       "    <tr>\n",
       "      <th>4</th>\n",
       "      <td>28.0</td>\n",
       "      <td>4865.785268</td>\n",
       "      <td>1875.618625</td>\n",
       "      <td>40.0</td>\n",
       "      <td>0</td>\n",
       "      <td>0</td>\n",
       "      <td>0</td>\n",
       "      <td>1</td>\n",
       "      <td>0</td>\n",
       "      <td>0</td>\n",
       "      <td>...</td>\n",
       "      <td>0</td>\n",
       "      <td>0</td>\n",
       "      <td>0</td>\n",
       "      <td>1</td>\n",
       "      <td>0</td>\n",
       "      <td>0</td>\n",
       "      <td>0</td>\n",
       "      <td>0</td>\n",
       "      <td>0</td>\n",
       "      <td>0</td>\n",
       "    </tr>\n",
       "  </tbody>\n",
       "</table>\n",
       "<p>5 rows × 49 columns</p>\n",
       "</div>"
      ],
      "text/plain": [
       "    Age  CapitalGain  CapitalLoss  HoursPerWeek  WorkClass_Federal-gov  \\\n",
       "0  39.0  2174.000000  1875.618625          40.0                      0   \n",
       "1  50.0  4865.785268  1875.618625          13.0                      0   \n",
       "2  38.0  4865.785268  1875.618625          40.0                      0   \n",
       "3  53.0  4865.785268  1875.618625          40.0                      0   \n",
       "4  28.0  4865.785268  1875.618625          40.0                      0   \n",
       "\n",
       "   WorkClass_Local-gov  WorkClass_Never-worked  WorkClass_Private  \\\n",
       "0                    0                       0                  0   \n",
       "1                    0                       0                  0   \n",
       "2                    0                       0                  1   \n",
       "3                    0                       0                  1   \n",
       "4                    0                       0                  1   \n",
       "\n",
       "   WorkClass_Self-emp-inc  WorkClass_Self-emp-not-inc  \\\n",
       "0                       0                           0   \n",
       "1                       0                           1   \n",
       "2                       0                           0   \n",
       "3                       0                           0   \n",
       "4                       0                           0   \n",
       "\n",
       "              ...               Occupation_Transport-moving  Gender_Female  \\\n",
       "0             ...                                         0              0   \n",
       "1             ...                                         0              0   \n",
       "2             ...                                         0              0   \n",
       "3             ...                                         0              0   \n",
       "4             ...                                         0              0   \n",
       "\n",
       "   Gender_Male  Native_Region_Central_America  Native_Region_Central_Asia  \\\n",
       "0            1                              0                           0   \n",
       "1            1                              0                           0   \n",
       "2            1                              0                           0   \n",
       "3            1                              0                           0   \n",
       "4            0                              1                           0   \n",
       "\n",
       "   Native_Region_East_Asia  Native_Region_Europe_East  \\\n",
       "0                        0                          0   \n",
       "1                        0                          0   \n",
       "2                        0                          0   \n",
       "3                        0                          0   \n",
       "4                        0                          0   \n",
       "\n",
       "   Native_Region_Europe_West  Native_Region_South_America  \\\n",
       "0                          0                            0   \n",
       "1                          0                            0   \n",
       "2                          0                            0   \n",
       "3                          0                            0   \n",
       "4                          0                            0   \n",
       "\n",
       "   Native_Region_United_States  \n",
       "0                            1  \n",
       "1                            1  \n",
       "2                            1  \n",
       "3                            1  \n",
       "4                            0  \n",
       "\n",
       "[5 rows x 49 columns]"
      ]
     },
     "execution_count": 28,
     "metadata": {},
     "output_type": "execute_result"
    }
   ],
   "source": [
    "new_dataset_train = pd.concat([new_num_col_tr, dummy_cat_train], axis=1)\n",
    "new_dataset_test = pd.concat([new_num_col_ts, dummy_cat_test], axis=1)\n",
    "new_dataset_train.head()"
   ]
  },
  {
   "cell_type": "code",
   "execution_count": 29,
   "metadata": {},
   "outputs": [],
   "source": [
    "del_fet = ['WorkClass_Never-worked', 'WorkClass_Without-pay', 'Occupation_Armed-Forces']\n",
    "new_dataset_train.drop(labels = del_fet,axis = 1,inplace = True)"
   ]
  },
  {
   "cell_type": "code",
   "execution_count": 30,
   "metadata": {},
   "outputs": [],
   "source": [
    "### Re-Formating the target variable to 0 and 1 (Binary output)\n",
    "\n",
    "new_dataset_train['Income']=train_dataset['Income'].map({'<=50K': 0, '>50K': 1})"
   ]
  },
  {
   "cell_type": "code",
   "execution_count": 31,
   "metadata": {},
   "outputs": [
    {
     "data": {
      "text/html": [
       "<div>\n",
       "<style scoped>\n",
       "    .dataframe tbody tr th:only-of-type {\n",
       "        vertical-align: middle;\n",
       "    }\n",
       "\n",
       "    .dataframe tbody tr th {\n",
       "        vertical-align: top;\n",
       "    }\n",
       "\n",
       "    .dataframe thead th {\n",
       "        text-align: right;\n",
       "    }\n",
       "</style>\n",
       "<table border=\"1\" class=\"dataframe\">\n",
       "  <thead>\n",
       "    <tr style=\"text-align: right;\">\n",
       "      <th></th>\n",
       "      <th>Age</th>\n",
       "      <th>CapitalGain</th>\n",
       "      <th>CapitalLoss</th>\n",
       "      <th>HoursPerWeek</th>\n",
       "      <th>WorkClass_Federal-gov</th>\n",
       "      <th>WorkClass_Local-gov</th>\n",
       "      <th>WorkClass_Private</th>\n",
       "      <th>WorkClass_Self-emp-inc</th>\n",
       "      <th>WorkClass_Self-emp-not-inc</th>\n",
       "      <th>WorkClass_State-gov</th>\n",
       "      <th>...</th>\n",
       "      <th>Gender_Female</th>\n",
       "      <th>Gender_Male</th>\n",
       "      <th>Native_Region_Central_America</th>\n",
       "      <th>Native_Region_Central_Asia</th>\n",
       "      <th>Native_Region_East_Asia</th>\n",
       "      <th>Native_Region_Europe_East</th>\n",
       "      <th>Native_Region_Europe_West</th>\n",
       "      <th>Native_Region_South_America</th>\n",
       "      <th>Native_Region_United_States</th>\n",
       "      <th>Income</th>\n",
       "    </tr>\n",
       "  </thead>\n",
       "  <tbody>\n",
       "    <tr>\n",
       "      <th>0</th>\n",
       "      <td>39.0</td>\n",
       "      <td>2174.000000</td>\n",
       "      <td>1875.618625</td>\n",
       "      <td>40.0</td>\n",
       "      <td>0</td>\n",
       "      <td>0</td>\n",
       "      <td>0</td>\n",
       "      <td>0</td>\n",
       "      <td>0</td>\n",
       "      <td>1</td>\n",
       "      <td>...</td>\n",
       "      <td>0</td>\n",
       "      <td>1</td>\n",
       "      <td>0</td>\n",
       "      <td>0</td>\n",
       "      <td>0</td>\n",
       "      <td>0</td>\n",
       "      <td>0</td>\n",
       "      <td>0</td>\n",
       "      <td>1</td>\n",
       "      <td>0</td>\n",
       "    </tr>\n",
       "    <tr>\n",
       "      <th>1</th>\n",
       "      <td>50.0</td>\n",
       "      <td>4865.785268</td>\n",
       "      <td>1875.618625</td>\n",
       "      <td>13.0</td>\n",
       "      <td>0</td>\n",
       "      <td>0</td>\n",
       "      <td>0</td>\n",
       "      <td>0</td>\n",
       "      <td>1</td>\n",
       "      <td>0</td>\n",
       "      <td>...</td>\n",
       "      <td>0</td>\n",
       "      <td>1</td>\n",
       "      <td>0</td>\n",
       "      <td>0</td>\n",
       "      <td>0</td>\n",
       "      <td>0</td>\n",
       "      <td>0</td>\n",
       "      <td>0</td>\n",
       "      <td>1</td>\n",
       "      <td>0</td>\n",
       "    </tr>\n",
       "    <tr>\n",
       "      <th>2</th>\n",
       "      <td>38.0</td>\n",
       "      <td>4865.785268</td>\n",
       "      <td>1875.618625</td>\n",
       "      <td>40.0</td>\n",
       "      <td>0</td>\n",
       "      <td>0</td>\n",
       "      <td>1</td>\n",
       "      <td>0</td>\n",
       "      <td>0</td>\n",
       "      <td>0</td>\n",
       "      <td>...</td>\n",
       "      <td>0</td>\n",
       "      <td>1</td>\n",
       "      <td>0</td>\n",
       "      <td>0</td>\n",
       "      <td>0</td>\n",
       "      <td>0</td>\n",
       "      <td>0</td>\n",
       "      <td>0</td>\n",
       "      <td>1</td>\n",
       "      <td>0</td>\n",
       "    </tr>\n",
       "    <tr>\n",
       "      <th>3</th>\n",
       "      <td>53.0</td>\n",
       "      <td>4865.785268</td>\n",
       "      <td>1875.618625</td>\n",
       "      <td>40.0</td>\n",
       "      <td>0</td>\n",
       "      <td>0</td>\n",
       "      <td>1</td>\n",
       "      <td>0</td>\n",
       "      <td>0</td>\n",
       "      <td>0</td>\n",
       "      <td>...</td>\n",
       "      <td>0</td>\n",
       "      <td>1</td>\n",
       "      <td>0</td>\n",
       "      <td>0</td>\n",
       "      <td>0</td>\n",
       "      <td>0</td>\n",
       "      <td>0</td>\n",
       "      <td>0</td>\n",
       "      <td>1</td>\n",
       "      <td>0</td>\n",
       "    </tr>\n",
       "    <tr>\n",
       "      <th>4</th>\n",
       "      <td>28.0</td>\n",
       "      <td>4865.785268</td>\n",
       "      <td>1875.618625</td>\n",
       "      <td>40.0</td>\n",
       "      <td>0</td>\n",
       "      <td>0</td>\n",
       "      <td>1</td>\n",
       "      <td>0</td>\n",
       "      <td>0</td>\n",
       "      <td>0</td>\n",
       "      <td>...</td>\n",
       "      <td>0</td>\n",
       "      <td>0</td>\n",
       "      <td>1</td>\n",
       "      <td>0</td>\n",
       "      <td>0</td>\n",
       "      <td>0</td>\n",
       "      <td>0</td>\n",
       "      <td>0</td>\n",
       "      <td>0</td>\n",
       "      <td>0</td>\n",
       "    </tr>\n",
       "  </tbody>\n",
       "</table>\n",
       "<p>5 rows × 47 columns</p>\n",
       "</div>"
      ],
      "text/plain": [
       "    Age  CapitalGain  CapitalLoss  HoursPerWeek  WorkClass_Federal-gov  \\\n",
       "0  39.0  2174.000000  1875.618625          40.0                      0   \n",
       "1  50.0  4865.785268  1875.618625          13.0                      0   \n",
       "2  38.0  4865.785268  1875.618625          40.0                      0   \n",
       "3  53.0  4865.785268  1875.618625          40.0                      0   \n",
       "4  28.0  4865.785268  1875.618625          40.0                      0   \n",
       "\n",
       "   WorkClass_Local-gov  WorkClass_Private  WorkClass_Self-emp-inc  \\\n",
       "0                    0                  0                       0   \n",
       "1                    0                  0                       0   \n",
       "2                    0                  1                       0   \n",
       "3                    0                  1                       0   \n",
       "4                    0                  1                       0   \n",
       "\n",
       "   WorkClass_Self-emp-not-inc  WorkClass_State-gov   ...    Gender_Female  \\\n",
       "0                           0                    1   ...                0   \n",
       "1                           1                    0   ...                0   \n",
       "2                           0                    0   ...                0   \n",
       "3                           0                    0   ...                0   \n",
       "4                           0                    0   ...                0   \n",
       "\n",
       "   Gender_Male  Native_Region_Central_America  Native_Region_Central_Asia  \\\n",
       "0            1                              0                           0   \n",
       "1            1                              0                           0   \n",
       "2            1                              0                           0   \n",
       "3            1                              0                           0   \n",
       "4            0                              1                           0   \n",
       "\n",
       "   Native_Region_East_Asia  Native_Region_Europe_East  \\\n",
       "0                        0                          0   \n",
       "1                        0                          0   \n",
       "2                        0                          0   \n",
       "3                        0                          0   \n",
       "4                        0                          0   \n",
       "\n",
       "   Native_Region_Europe_West  Native_Region_South_America  \\\n",
       "0                          0                            0   \n",
       "1                          0                            0   \n",
       "2                          0                            0   \n",
       "3                          0                            0   \n",
       "4                          0                            0   \n",
       "\n",
       "   Native_Region_United_States  Income  \n",
       "0                            1       0  \n",
       "1                            1       0  \n",
       "2                            1       0  \n",
       "3                            1       0  \n",
       "4                            0       0  \n",
       "\n",
       "[5 rows x 47 columns]"
      ]
     },
     "execution_count": 31,
     "metadata": {},
     "output_type": "execute_result"
    }
   ],
   "source": [
    "new_dataset_train.head()"
   ]
  },
  {
   "cell_type": "code",
   "execution_count": 32,
   "metadata": {},
   "outputs": [],
   "source": [
    "x = new_dataset_train.iloc[:,:-1].values\n",
    "y = new_dataset_train.iloc[:,46].values"
   ]
  },
  {
   "cell_type": "markdown",
   "metadata": {},
   "source": [
    "### 4. Modeling"
   ]
  },
  {
   "cell_type": "code",
   "execution_count": 144,
   "metadata": {},
   "outputs": [],
   "source": [
    "# import warnings filter\n",
    "from warnings import simplefilter\n",
    "# ignore all future warnings\n",
    "simplefilter(action='ignore', category=FutureWarning)"
   ]
  },
  {
   "cell_type": "markdown",
   "metadata": {},
   "source": [
    "#### 1. Logistic Regression (Baseline Model)"
   ]
  },
  {
   "cell_type": "code",
   "execution_count": 34,
   "metadata": {},
   "outputs": [],
   "source": [
    "from sklearn.linear_model import LogisticRegression\n",
    "from sklearn.model_selection import train_test_split\n",
    "from sklearn.metrics import recall_score\n",
    "from sklearn.metrics import precision_score"
   ]
  },
  {
   "cell_type": "code",
   "execution_count": 47,
   "metadata": {},
   "outputs": [],
   "source": [
    "x_train_res, x_val_res, y_train_res, y_val_res = train_test_split(x, y, test_size = .2, random_state=12)"
   ]
  },
  {
   "cell_type": "code",
   "execution_count": 37,
   "metadata": {},
   "outputs": [],
   "source": [
    "# Fit logistic regression model\n",
    "logistic_model = LogisticRegression()\n",
    "logistic_model = logistic_model.fit(x_train_res, y_train_res)"
   ]
  },
  {
   "cell_type": "code",
   "execution_count": 48,
   "metadata": {},
   "outputs": [
    {
     "name": "stdout",
     "output_type": "stream",
     "text": [
      "Accuracy: 0.8365747822557987\n"
     ]
    }
   ],
   "source": [
    "acc = logistic_model.score(x_train_res, y_train_res)\n",
    "print('Accuracy:', acc)"
   ]
  },
  {
   "cell_type": "code",
   "execution_count": 166,
   "metadata": {},
   "outputs": [],
   "source": [
    "pred = logistic_model.predict(x_val_res)"
   ]
  },
  {
   "cell_type": "markdown",
   "metadata": {},
   "source": [
    "##### Confusion Matrix"
   ]
  },
  {
   "cell_type": "code",
   "execution_count": 167,
   "metadata": {},
   "outputs": [
    {
     "name": "stdout",
     "output_type": "stream",
     "text": [
      "      0     1\n",
      "0  4804  1417\n",
      "1   333  1455\n"
     ]
    }
   ],
   "source": [
    "import sklearn\n",
    "cm = pd.DataFrame(sklearn.metrics.confusion_matrix(y_val_res,pred))\n",
    "print(cm)"
   ]
  },
  {
   "cell_type": "markdown",
   "metadata": {},
   "source": [
    "Apart from accuracy we want to know how well the model can specifically classify Income. In statistics, this is called recall, and it’s the number of correctly predicted “positives” divided by the total number of “positives”.\n",
    "\n",
    "Here we are predicting Income with 81.3% accuracy"
   ]
  },
  {
   "cell_type": "code",
   "execution_count": 168,
   "metadata": {},
   "outputs": [
    {
     "name": "stdout",
     "output_type": "stream",
     "text": [
      "Recall: 0.8137583892617449\n",
      "Precision: 0.5066155988857939\n"
     ]
    }
   ],
   "source": [
    "print('Recall:',recall_score(y_val_res, pred))\n",
    "print('Precision:', precision_score(y_val_res, pred))"
   ]
  },
  {
   "cell_type": "markdown",
   "metadata": {},
   "source": [
    "#### K-Fold Cross Validation\n",
    "\n",
    "Cross-validation is a procedure used to avoid overfitting and estimate the skill of the model on new data.\n",
    "The value for k is chosen such that each train/test group of data samples is large enough to be statistically representative of the broader dataset."
   ]
  },
  {
   "cell_type": "code",
   "execution_count": 42,
   "metadata": {},
   "outputs": [],
   "source": [
    "from sklearn.model_selection import cross_val_score\n",
    "from sklearn.model_selection import cross_val_predict"
   ]
  },
  {
   "cell_type": "code",
   "execution_count": 1189,
   "metadata": {},
   "outputs": [
    {
     "data": {
      "text/plain": [
       "array([0.83268823, 0.82519665, 0.83603896, 0.83803696, 0.83878621])"
      ]
     },
     "execution_count": 1189,
     "metadata": {},
     "output_type": "execute_result"
    }
   ],
   "source": [
    "# accurace of the baseline model using 5-cross validation method -\n",
    "score = cross_val_score(logistic_model, x, y, cv = 5)\n",
    "score"
   ]
  },
  {
   "cell_type": "code",
   "execution_count": 1190,
   "metadata": {},
   "outputs": [
    {
     "name": "stdout",
     "output_type": "stream",
     "text": [
      "5-Cross Validation accuracy 0.8341494034745377 0.004949147901037578\n"
     ]
    }
   ],
   "source": [
    "print ('5-Cross Validation accuracy', np.mean(score), np.std(score))"
   ]
  },
  {
   "cell_type": "markdown",
   "metadata": {},
   "source": [
    "#### 2.Random Forest"
   ]
  },
  {
   "cell_type": "code",
   "execution_count": 232,
   "metadata": {},
   "outputs": [],
   "source": [
    "from sklearn.ensemble import RandomForestClassifier\n",
    "from sklearn.metrics import roc_auc_score"
   ]
  },
  {
   "cell_type": "code",
   "execution_count": 233,
   "metadata": {},
   "outputs": [],
   "source": [
    "x_train_res, x_val_res, y_train_res, y_val_res = train_test_split(x, y, test_size = .2, random_state=12)"
   ]
  },
  {
   "cell_type": "code",
   "execution_count": 234,
   "metadata": {},
   "outputs": [
    {
     "data": {
      "text/plain": [
       "RandomForestClassifier(bootstrap=True, class_weight=None, criterion='gini',\n",
       "            max_depth=50, max_features='auto', max_leaf_nodes=None,\n",
       "            min_impurity_decrease=0.0, min_impurity_split=None,\n",
       "            min_samples_leaf=1, min_samples_split=2,\n",
       "            min_weight_fraction_leaf=0.0, n_estimators=25, n_jobs=None,\n",
       "            oob_score=False, random_state=12, verbose=0, warm_start=False)"
      ]
     },
     "execution_count": 234,
     "metadata": {},
     "output_type": "execute_result"
    }
   ],
   "source": [
    "#fit a Random Forest model on training data - \n",
    "clf_rf = RandomForestClassifier(n_estimators=25, max_depth=50, random_state=12)\n",
    "clf_rf.fit(x_train_res, y_train_res)"
   ]
  },
  {
   "cell_type": "code",
   "execution_count": 235,
   "metadata": {},
   "outputs": [
    {
     "name": "stdout",
     "output_type": "stream",
     "text": [
      "Validation Results\n",
      "Accuracy: 0.8313147708827568\n",
      "Recall: 0.5497762863534675\n",
      "Precision: 0.6429038587311968\n"
     ]
    }
   ],
   "source": [
    "print ('Validation Results')\n",
    "print('Accuracy:',clf_rf.score(x_val_res, y_val_res))\n",
    "print('Recall:',recall_score(y_val_res, clf_rf.predict(x_val_res)))\n",
    "print('Precision:',precision_score(y_val_res, clf_rf.predict(x_val_res)))"
   ]
  },
  {
   "cell_type": "code",
   "execution_count": 236,
   "metadata": {},
   "outputs": [
    {
     "data": {
      "text/plain": [
       "array([0.83231365, 0.8330628 , 0.83366633, 0.83404096, 0.83366633])"
      ]
     },
     "execution_count": 236,
     "metadata": {},
     "output_type": "execute_result"
    }
   ],
   "source": [
    "score = cross_val_score(clf_rf, x, y, cv = 5)\n",
    "score"
   ]
  },
  {
   "cell_type": "code",
   "execution_count": 237,
   "metadata": {},
   "outputs": [
    {
     "name": "stdout",
     "output_type": "stream",
     "text": [
      "5-Cross Validation accuracy 0.8333500155731397 0.0006056512118660882\n"
     ]
    }
   ],
   "source": [
    "print ('5-Cross Validation accuracy', np.mean(score), np.std(score))"
   ]
  },
  {
   "cell_type": "markdown",
   "metadata": {},
   "source": [
    "#### Result\n",
    "\n",
    "Among Logistic Regression and Random Forest, Logistic Regression seems to performing well and giving better result"
   ]
  },
  {
   "cell_type": "markdown",
   "metadata": {},
   "source": [
    "### Oversamplig using SMOTE\n",
    "\n",
    "Since our data is highly imbalanced, lets use oversampling to see if there is any improvement in the model performance"
   ]
  },
  {
   "cell_type": "markdown",
   "metadata": {},
   "source": [
    "#### 1. Logistic Regression (SMOTE)"
   ]
  },
  {
   "cell_type": "code",
   "execution_count": 239,
   "metadata": {},
   "outputs": [],
   "source": [
    "from imblearn.over_sampling import SMOTE"
   ]
  },
  {
   "cell_type": "code",
   "execution_count": 240,
   "metadata": {},
   "outputs": [],
   "source": [
    "x_train, x_val, y_train, y_val = train_test_split(x, y,test_size = .2,random_state=12)"
   ]
  },
  {
   "cell_type": "code",
   "execution_count": 172,
   "metadata": {},
   "outputs": [],
   "source": [
    "sm = SMOTE(random_state=12, ratio = 1.0)\n",
    "x_train_res, y_train_res = sm.fit_sample(x_train, y_train)"
   ]
  },
  {
   "cell_type": "code",
   "execution_count": 173,
   "metadata": {},
   "outputs": [],
   "source": [
    "# Fit logistic regression model\n",
    "logistic_model_sm = LogisticRegression()\n",
    "logistic_model_sm = logistic_model.fit(x_train_res, y_train_res)"
   ]
  },
  {
   "cell_type": "code",
   "execution_count": 242,
   "metadata": {},
   "outputs": [],
   "source": [
    "pred = logistic_model_sm.predict(x_val)"
   ]
  },
  {
   "cell_type": "code",
   "execution_count": 243,
   "metadata": {},
   "outputs": [
    {
     "name": "stdout",
     "output_type": "stream",
     "text": [
      "Accuracy: 0.7894671120407081\n"
     ]
    }
   ],
   "source": [
    "acc = logistic_model_sm.score(x_train_res, y_train_res)\n",
    "print('Accuracy:', acc)"
   ]
  },
  {
   "cell_type": "code",
   "execution_count": 244,
   "metadata": {},
   "outputs": [
    {
     "name": "stdout",
     "output_type": "stream",
     "text": [
      "Recall: 0.8137583892617449\n",
      "Precision: 0.5066155988857939\n"
     ]
    }
   ],
   "source": [
    "print('Recall:',recall_score(y_val_res, pred))\n",
    "print('Precision:', precision_score(y_val_res, pred))"
   ]
  },
  {
   "cell_type": "code",
   "execution_count": 175,
   "metadata": {},
   "outputs": [
    {
     "data": {
      "text/plain": [
       "array([0.80062274, 0.81303998, 0.82117742, 0.81926864, 0.81635523])"
      ]
     },
     "execution_count": 175,
     "metadata": {},
     "output_type": "execute_result"
    }
   ],
   "source": [
    "score = cross_val_score(logistic_model_sm, x_train_res, y_train_res, cv = 5)\n",
    "score"
   ]
  },
  {
   "cell_type": "code",
   "execution_count": 176,
   "metadata": {},
   "outputs": [
    {
     "name": "stdout",
     "output_type": "stream",
     "text": [
      "5-Cross Validation accuracy 0.8140928019795035 0.00727530900313186\n"
     ]
    }
   ],
   "source": [
    "print ('5-Cross Validation accuracy', np.mean(score), np.std(score))"
   ]
  },
  {
   "cell_type": "markdown",
   "metadata": {},
   "source": [
    "Logistic Regression Model accuray actually dropped from 83.6% to 81.3% after perforimg oversampling using SMOTE.\n",
    "\n",
    "Lets see how random Forest behaves."
   ]
  },
  {
   "cell_type": "markdown",
   "metadata": {},
   "source": [
    "#### 2. Random Forest (SMOTE)"
   ]
  },
  {
   "cell_type": "code",
   "execution_count": 187,
   "metadata": {},
   "outputs": [],
   "source": [
    "x_train, x_val, y_train, y_val = train_test_split(x, y,test_size = .2,random_state=12)"
   ]
  },
  {
   "cell_type": "code",
   "execution_count": 188,
   "metadata": {},
   "outputs": [],
   "source": [
    "sm = SMOTE(random_state=12, ratio = 1.0)\n",
    "x_train_res, y_train_res = sm.fit_sample(x_train, y_train)"
   ]
  },
  {
   "cell_type": "code",
   "execution_count": 189,
   "metadata": {},
   "outputs": [
    {
     "data": {
      "text/plain": [
       "RandomForestClassifier(bootstrap=True, class_weight=None, criterion='gini',\n",
       "            max_depth=None, max_features='auto', max_leaf_nodes=None,\n",
       "            min_impurity_decrease=0.0, min_impurity_split=None,\n",
       "            min_samples_leaf=1, min_samples_split=2,\n",
       "            min_weight_fraction_leaf=0.0, n_estimators=25, n_jobs=None,\n",
       "            oob_score=False, random_state=12, verbose=0, warm_start=False)"
      ]
     },
     "execution_count": 189,
     "metadata": {},
     "output_type": "execute_result"
    }
   ],
   "source": [
    "clf_rf = RandomForestClassifier(n_estimators=25, random_state=12)\n",
    "clf_rf.fit(x_train_res, y_train_res)"
   ]
  },
  {
   "cell_type": "code",
   "execution_count": 190,
   "metadata": {},
   "outputs": [
    {
     "name": "stdout",
     "output_type": "stream",
     "text": [
      "Validation Results\n",
      "Accuracy: 0.8223248845049319\n",
      "Recall: 0.5525727069351231\n",
      "Precision: 0.6132836747361887\n"
     ]
    }
   ],
   "source": [
    "print ('Validation Results')\n",
    "print ('Accuracy:',clf_rf.score(x_val, y_val))\n",
    "print ('Recall:',recall_score(y_val, clf_rf.predict(x_val)))\n",
    "print('Precision:',precision_score(y_val, clf_rf.predict(x_val)))"
   ]
  },
  {
   "cell_type": "code",
   "execution_count": 126,
   "metadata": {},
   "outputs": [
    {
     "name": "stdout",
     "output_type": "stream",
     "text": [
      "      0    1\n",
      "0  5818  403\n",
      "1   936  852\n"
     ]
    }
   ],
   "source": [
    "import sklearn\n",
    "cm_rf = pd.DataFrame(sklearn.metrics.confusion_matrix(y_val_res,pred))\n",
    "print(cm_rf)"
   ]
  },
  {
   "cell_type": "markdown",
   "metadata": {},
   "source": [
    "Random Forest model accuracy increased from 81.7% to 82.2% after oversampling"
   ]
  },
  {
   "cell_type": "markdown",
   "metadata": {},
   "source": [
    "#### 5. Model Tuning"
   ]
  },
  {
   "cell_type": "markdown",
   "metadata": {},
   "source": [
    "Before predicting the result let see if we can fine tune our model to increase accuracy and get better result"
   ]
  },
  {
   "cell_type": "code",
   "execution_count": 150,
   "metadata": {},
   "outputs": [],
   "source": [
    "np.seterr(divide='ignore', invalid='ignore')\n",
    "import warnings\n",
    "warnings.filterwarnings(\"ignore\")"
   ]
  },
  {
   "cell_type": "markdown",
   "metadata": {},
   "source": [
    "#### Random Forest (SMOTE)"
   ]
  },
  {
   "cell_type": "markdown",
   "metadata": {},
   "source": [
    "#### a. Tree Depth"
   ]
  },
  {
   "cell_type": "code",
   "execution_count": 151,
   "metadata": {},
   "outputs": [
    {
     "name": "stdout",
     "output_type": "stream",
     "text": [
      "1 depth\n",
      "AUC Train:  0.9435023708108976\n",
      "AUC Test:  0.7014020671126555\n",
      "2 depth\n",
      "AUC Train:  0.9441252109619866\n",
      "AUC Test:  0.6673378795283492\n",
      "3 depth\n",
      "AUC Train:  0.9669693803745077\n",
      "AUC Test:  0.7215324294884865\n",
      "4 depth\n",
      "AUC Train:  0.9662259905167564\n",
      "AUC Test:  0.6917038683653225\n",
      "5 depth\n",
      "AUC Train:  0.9745439202764606\n",
      "AUC Test:  0.7208004874159726\n",
      "10 depth\n",
      "AUC Train:  0.9793659085429558\n",
      "AUC Test:  0.7092495307982956\n",
      "20 depth\n",
      "AUC Train:  0.9842280800450053\n",
      "AUC Test:  0.7170761820304827\n",
      "50 depth\n",
      "AUC Train:  0.9864180663827051\n",
      "AUC Test:  0.7220260397506174\n",
      "100 depth\n",
      "AUC Train:  0.9866390741782527\n",
      "AUC Test:  0.723739088970137\n"
     ]
    },
    {
     "data": {
      "image/png": "[encoded data removed]",
      "text/plain": [
       "<Figure size 432x288 with 1 Axes>"
      ]
     },
     "metadata": {
      "needs_background": "light"
     },
     "output_type": "display_data"
    }
   ],
   "source": [
    "results1 = []\n",
    "results2 = []\n",
    "max_depth_size  = [1,2,3,4,5,10,20,50,100]\n",
    "\n",
    "for depth in max_depth_size:\n",
    "    clf_rf = RandomForestClassifier(depth, oob_score=True, n_jobs=-1, random_state=12)\n",
    "    clf_rf.fit(x_train_res, y_train_res)\n",
    "    print(depth, 'depth')\n",
    "    pred1 = clf_rf .predict(x_train_res)\n",
    "    pred2 = clf_rf .predict(x_val)\n",
    "    roc1 = roc_auc_score(y_train_res, pred1)\n",
    "    roc2 = roc_auc_score(y_val, pred2)\n",
    "    print('AUC Train: ', roc1)\n",
    "    print('AUC Test: ', roc2)\n",
    "    results1.append(roc1)\n",
    "    results2.append(roc2)\n",
    "\n",
    "plt.plot(max_depth_size, results1, label='Train Set')\n",
    "plt.plot(max_depth_size, results2, label='Test Set')\n",
    "plt.xlabel('Max Depth Size')\n",
    "plt.ylabel('AUC Score')\n",
    "plt.title('Train VS Test Scores')\n",
    "plt.legend(loc=\"lower right\")\n",
    "plt.show()"
   ]
  },
  {
   "cell_type": "markdown",
   "metadata": {},
   "source": [
    "Tree with depth 50 gives best value for AUC Score, after depth of 50 there seems to be no significant change in score"
   ]
  },
  {
   "cell_type": "markdown",
   "metadata": {},
   "source": [
    "#### b. Number of trees"
   ]
  },
  {
   "cell_type": "code",
   "execution_count": 152,
   "metadata": {},
   "outputs": [
    {
     "name": "stdout",
     "output_type": "stream",
     "text": [
      "1 trees\n",
      "Accuracy:  0.788113372455987\n",
      "2 trees\n",
      "Accuracy:  0.8125858409289549\n",
      "3 trees\n",
      "Accuracy:  0.8113372455987015\n",
      "4 trees\n",
      "Accuracy:  0.8153327506555126\n",
      "5 trees\n",
      "Accuracy:  0.8160819078536646\n",
      "15 trees\n",
      "Accuracy:  0.8203271319765264\n",
      "20 trees\n",
      "Accuracy:  0.8202022724435011\n",
      "25 trees\n",
      "Accuracy:  0.8223248845049319\n",
      "40 trees\n",
      "Accuracy:  0.8217005868398052\n",
      "50 trees\n",
      "Accuracy:  0.8217005868398052\n",
      "70 trees\n",
      "Accuracy:  0.8202022724435011\n",
      "100 trees\n",
      "Accuracy:  0.8215757273067799\n"
     ]
    },
    {
     "data": {
      "image/png": "[encoded data removed]",
      "text/plain": [
       "<Figure size 432x288 with 1 Axes>"
      ]
     },
     "metadata": {
      "needs_background": "light"
     },
     "output_type": "display_data"
    }
   ],
   "source": [
    "results = []\n",
    "n_estimator_options = [1, 2, 3, 4, 5, 15, 20, 25, 40, 50, 70, 100]\n",
    "\n",
    "for trees in n_estimator_options:\n",
    "    clf_rf = RandomForestClassifier(trees, oob_score=True, random_state=12)\n",
    "    clf_rf.fit(x_train_res, y_train_res)\n",
    "    print(trees, 'trees')\n",
    "    acc = clf_rf.score(x_val, y_val)\n",
    "    print('Accuracy: ', acc)\n",
    "    results.append(acc)\n",
    "    \n",
    "plt.plot(n_estimator_options, results, label='Accuracy')\n",
    "plt.xlabel('# of Trees')\n",
    "plt.ylabel('Accuracy')\n",
    "plt.title('Accuracy VS Trees')\n",
    "plt.legend(loc=\"lower right\")\n",
    "plt.show()"
   ]
  },
  {
   "cell_type": "markdown",
   "metadata": {},
   "source": [
    "Highest accuracy is achieved when number of trees were 25."
   ]
  },
  {
   "cell_type": "markdown",
   "metadata": {},
   "source": [
    "#### Min Sample Leaf"
   ]
  },
  {
   "cell_type": "code",
   "execution_count": 154,
   "metadata": {},
   "outputs": [
    {
     "name": "stdout",
     "output_type": "stream",
     "text": [
      "1 min samples\n",
      "Accuracy:  0.8223248845049319\n",
      "2 min samples\n",
      "Accuracy:  0.8313147708827568\n",
      "3 min samples\n",
      "Accuracy:  0.8359345736046947\n",
      "4 min samples\n",
      "Accuracy:  0.8321887876139343\n",
      "5 min samples\n",
      "Accuracy:  0.8338119615432639\n",
      "6 min samples\n",
      "Accuracy:  0.8311899113497315\n",
      "7 min samples\n",
      "Accuracy:  0.8315644899488076\n",
      "8 min samples\n",
      "Accuracy:  0.8310650518167062\n",
      "9 min samples\n",
      "Accuracy:  0.8278187039580472\n",
      "10 min samples\n",
      "Accuracy:  0.8290672992883007\n",
      "20 min samples\n",
      "Accuracy:  0.8238231989012361\n"
     ]
    },
    {
     "data": {
      "text/plain": [
       "<matplotlib.axes._subplots.AxesSubplot at 0x1ea13795198>"
      ]
     },
     "execution_count": 154,
     "metadata": {},
     "output_type": "execute_result"
    },
    {
     "data": {
      "image/png": "[encoded data removed]",
      "text/plain": [
       "<Figure size 432x288 with 1 Axes>"
      ]
     },
     "metadata": {
      "needs_background": "light"
     },
     "output_type": "display_data"
    }
   ],
   "source": [
    "results = []\n",
    "min_samples_leaf_options = [1, 2, 3, 4, 5, 6, 7, 8, 9, 10,20]\n",
    "\n",
    "for min_samples in min_samples_leaf_options:\n",
    "    clf_rf = RandomForestClassifier(n_estimators=25, oob_score=True, n_jobs=-1, random_state=12, \n",
    "                                    max_features=\"auto\", min_samples_leaf=min_samples)\n",
    "    clf_rf.fit(x_train_res, y_train_res)\n",
    "    print(min_samples, \"min samples\")\n",
    "    acc = clf_rf.score(x_val, y_val)\n",
    "    print('Accuracy: ', acc)\n",
    "    results.append(acc)\n",
    "    \n",
    "pd.Series(results, min_samples_leaf_options).plot()"
   ]
  },
  {
   "cell_type": "markdown",
   "metadata": {},
   "source": [
    "Highest accuracy is achieved when value for min_sample_leaf is 3."
   ]
  },
  {
   "cell_type": "markdown",
   "metadata": {},
   "source": [
    "#### Conclusion\n",
    "\n",
    "Our Final choice of model will be Random Forest with Oversampling (SMOTE)"
   ]
  },
  {
   "cell_type": "markdown",
   "metadata": {},
   "source": [
    "### 5.Evaluation"
   ]
  },
  {
   "cell_type": "markdown",
   "metadata": {},
   "source": [
    "#### Random Forest"
   ]
  },
  {
   "cell_type": "markdown",
   "metadata": {},
   "source": [
    "Passing the parameters which we got after model tuning in Random Forest"
   ]
  },
  {
   "cell_type": "code",
   "execution_count": 193,
   "metadata": {},
   "outputs": [
    {
     "data": {
      "text/plain": [
       "RandomForestClassifier(bootstrap=True, class_weight=None, criterion='gini',\n",
       "            max_depth=50, max_features='auto', max_leaf_nodes=None,\n",
       "            min_impurity_decrease=0.0, min_impurity_split=None,\n",
       "            min_samples_leaf=3, min_samples_split=2,\n",
       "            min_weight_fraction_leaf=0.0, n_estimators=25, n_jobs=None,\n",
       "            oob_score=False, random_state=12, verbose=0, warm_start=False)"
      ]
     },
     "execution_count": 193,
     "metadata": {},
     "output_type": "execute_result"
    }
   ],
   "source": [
    "clf_rf = RandomForestClassifier(max_depth=50, n_estimators=25,  min_samples_leaf =3, random_state=12)\n",
    "clf_rf.fit(x_train_res, y_train_res)"
   ]
  },
  {
   "cell_type": "code",
   "execution_count": 194,
   "metadata": {},
   "outputs": [
    {
     "name": "stdout",
     "output_type": "stream",
     "text": [
      "Validation Results\n",
      "Accuracy: 0.8364340117367961\n",
      "Recall: 0.6314317673378076\n",
      "Precision: 0.6342696629213483\n"
     ]
    }
   ],
   "source": [
    "print ('Validation Results')\n",
    "print ('Accuracy:',clf_rf.score(x_val, y_val))\n",
    "print ('Recall:',recall_score(y_val, clf_rf.predict(x_val)))\n",
    "print('Precision:',precision_score(y_val, clf_rf.predict(x_val)))"
   ]
  },
  {
   "cell_type": "markdown",
   "metadata": {},
   "source": [
    "Accuracy of the model got increased along with significant increase in Precision and Recall"
   ]
  },
  {
   "cell_type": "markdown",
   "metadata": {},
   "source": [
    "#### Feature Importance"
   ]
  },
  {
   "cell_type": "code",
   "execution_count": 217,
   "metadata": {},
   "outputs": [
    {
     "name": "stdout",
     "output_type": "stream",
     "text": [
      "Age                              0.108265\n",
      "CapitalGain                      0.023733\n",
      "CapitalLoss                      0.011138\n",
      "HoursPerWeek                     0.058859\n",
      "WorkClass_Federal-gov            0.003733\n",
      "WorkClass_Local-gov              0.004366\n",
      "WorkClass_Private                0.016173\n",
      "WorkClass_Self-emp-inc           0.005172\n",
      "WorkClass_Self-emp-not-inc       0.012271\n",
      "WorkClass_State-gov              0.002357\n",
      "Education_Assoc-acdm             0.003161\n",
      "Education_Assoc-voc              0.003889\n",
      "Education_Bachelors              0.036879\n",
      "Education_Doctorate              0.004186\n",
      "Education_High-school-grad       0.057091\n",
      "Education_Masters                0.021450\n",
      "Education_Preschool              0.000134\n",
      "Education_Prof-school            0.003894\n",
      "Education_Some-college           0.015880\n",
      "Education_elementary-school      0.013466\n",
      "MaritalStatus_Married            0.214484\n",
      "MaritalStatus_Never-married      0.101468\n",
      "MaritalStatus_Separated          0.022063\n",
      "MaritalStatus_Widowed            0.001367\n",
      "Occupation_Adm-clerical          0.005189\n",
      "Occupation_Craft-repair          0.011841\n",
      "Occupation_Exec-managerial       0.034380\n",
      "Occupation_Farming-fishing       0.006592\n",
      "Occupation_Handlers-cleaners     0.005681\n",
      "Occupation_Machine-op-inspct     0.006214\n",
      "Occupation_Other-service         0.015825\n",
      "Occupation_Priv-house-serv       0.000062\n",
      "Occupation_Prof-specialty        0.029952\n",
      "Occupation_Protective-serv       0.002269\n",
      "Occupation_Sales                 0.008968\n",
      "Occupation_Tech-support          0.003785\n",
      "Occupation_Transport-moving      0.006127\n",
      "Gender_Female                    0.056462\n",
      "Gender_Male                      0.035044\n",
      "Native_Region_Central_America    0.005889\n",
      "Native_Region_Central_Asia       0.000426\n",
      "Native_Region_East_Asia          0.000570\n",
      "Native_Region_Europe_East        0.000136\n",
      "Native_Region_Europe_West        0.000839\n",
      "Native_Region_South_America      0.000119\n",
      "Native_Region_United_States      0.018151\n",
      "dtype: float64\n"
     ]
    },
    {
     "data": {
      "text/plain": [
       "<matplotlib.axes._subplots.AxesSubplot at 0x1ea12e643c8>"
      ]
     },
     "execution_count": 217,
     "metadata": {},
     "output_type": "execute_result"
    },
    {
     "data": {
      "image/png": "[encoded data removed]",
      "text/plain": [
       "<Figure size 504x432 with 1 Axes>"
      ]
     },
     "metadata": {
      "needs_background": "light"
     },
     "output_type": "display_data"
    }
   ],
   "source": [
    "feature_importances = pd.Series(clf_rf.feature_importances_, index=new_dataset_train.columns[:-1])\n",
    "print(feature_importances)\n",
    "feature_importances.sort_values(inplace=True)\n",
    "feature_importances.plot(kind='barh', figsize=(7,6))"
   ]
  },
  {
   "cell_type": "code",
   "execution_count": 221,
   "metadata": {},
   "outputs": [
    {
     "name": "stdout",
     "output_type": "stream",
     "text": [
      "CapitalLoss      0.011138\n",
      "CapitalGain      0.023733\n",
      "Native_Region    0.026131\n",
      "WorkClass        0.044072\n",
      "HoursPerWeek     0.058859\n",
      "Gender           0.091505\n",
      "Age              0.108265\n",
      "Occupation       0.136885\n",
      "Education        0.160030\n",
      "MaritalStatus    0.339382\n",
      "dtype: float64\n"
     ]
    },
    {
     "data": {
      "image/png": "[encoded data removed]",
      "text/plain": [
       "<Figure size 720x180 with 1 Axes>"
      ]
     },
     "metadata": {
      "needs_background": "light"
     },
     "output_type": "display_data"
    }
   ],
   "source": [
    "# Create function to combine feature importances\n",
    "def graph_feature_importances(model, feature_names, autoscale=True, headroom=0.1, width=10, summarized_columns=None):  \n",
    "    feature_dict=dict(zip(feature_names, model.feature_importances_))\n",
    "    \n",
    "    if summarized_columns:\n",
    "        for col_name in summarized_columns:\n",
    "            sum_value = sum(x for i, x in feature_dict.items() if col_name in i )\n",
    "            keys_to_remove = [i for i in feature_dict.keys() if col_name in i ]\n",
    "            for i in keys_to_remove:\n",
    "                feature_dict.pop(i)\n",
    "            feature_dict[col_name] = sum_value\n",
    "    results = pd.Series(feature_dict, index=feature_dict.keys())\n",
    "    results.sort_values(inplace=True)\n",
    "    print(results)\n",
    "    results.plot(kind='barh', figsize=(width, len(results)/4), xlim=(0, .30))\n",
    " \n",
    "# Create combined feature importances\n",
    "graph_feature_importances(clf_rf, new_dataset_train.columns[:-1], summarized_columns=['WorkClass','Education','MaritalStatus',\n",
    "                                                                                      'Occupation','Gender','Native_Region'])"
   ]
  },
  {
   "cell_type": "markdown",
   "metadata": {},
   "source": [
    "Maritial Status seems to have higher significance followed by Education & Occupation"
   ]
  },
  {
   "cell_type": "markdown",
   "metadata": {},
   "source": [
    "##### Predicintg the Income based on Tuned Random Forest model"
   ]
  },
  {
   "cell_type": "code",
   "execution_count": 222,
   "metadata": {},
   "outputs": [],
   "source": [
    "pred = clf_rf.predict(new_dataset_test)"
   ]
  },
  {
   "cell_type": "code",
   "execution_count": 196,
   "metadata": {},
   "outputs": [
    {
     "data": {
      "text/html": [
       "<div>\n",
       "<style scoped>\n",
       "    .dataframe tbody tr th:only-of-type {\n",
       "        vertical-align: middle;\n",
       "    }\n",
       "\n",
       "    .dataframe tbody tr th {\n",
       "        vertical-align: top;\n",
       "    }\n",
       "\n",
       "    .dataframe thead th {\n",
       "        text-align: right;\n",
       "    }\n",
       "</style>\n",
       "<table border=\"1\" class=\"dataframe\">\n",
       "  <thead>\n",
       "    <tr style=\"text-align: right;\">\n",
       "      <th></th>\n",
       "      <th>Income</th>\n",
       "    </tr>\n",
       "  </thead>\n",
       "  <tbody>\n",
       "    <tr>\n",
       "      <th>0</th>\n",
       "      <td>0</td>\n",
       "    </tr>\n",
       "    <tr>\n",
       "      <th>1</th>\n",
       "      <td>0</td>\n",
       "    </tr>\n",
       "    <tr>\n",
       "      <th>2</th>\n",
       "      <td>0</td>\n",
       "    </tr>\n",
       "    <tr>\n",
       "      <th>3</th>\n",
       "      <td>0</td>\n",
       "    </tr>\n",
       "    <tr>\n",
       "      <th>4</th>\n",
       "      <td>0</td>\n",
       "    </tr>\n",
       "  </tbody>\n",
       "</table>\n",
       "</div>"
      ],
      "text/plain": [
       "   Income\n",
       "0       0\n",
       "1       0\n",
       "2       0\n",
       "3       0\n",
       "4       0"
      ]
     },
     "execution_count": 196,
     "metadata": {},
     "output_type": "execute_result"
    }
   ],
   "source": [
    "result_rf =pd.DataFrame(pred, columns=['Income']) \n",
    "result_rf.head()"
   ]
  },
  {
   "cell_type": "code",
   "execution_count": 198,
   "metadata": {},
   "outputs": [],
   "source": [
    "result_rf['Income']=result_rf['Income'].map({0:'<=50K', 1:'>50K'})"
   ]
  },
  {
   "cell_type": "code",
   "execution_count": 199,
   "metadata": {},
   "outputs": [
    {
     "data": {
      "text/plain": [
       "(4782, 1)"
      ]
     },
     "execution_count": 199,
     "metadata": {},
     "output_type": "execute_result"
    }
   ],
   "source": [
    "result_rf.shape"
   ]
  },
  {
   "cell_type": "code",
   "execution_count": 200,
   "metadata": {},
   "outputs": [],
   "source": [
    "result_rf.to_csv(\"/Users/Hemanshu/Documents/result_rf.csv\", sep = ',')"
   ]
  },
  {
   "cell_type": "markdown",
   "metadata": {},
   "source": [
    "#### Summary"
   ]
  },
  {
   "cell_type": "markdown",
   "metadata": {},
   "source": [
    "1)\tThe average age of people is approx. 38 years with minimum being 17 years and maximum being 90 years.\n",
    "\n",
    "2)\tOn average, people work for 40 hours per week\n",
    "\n",
    "3)\tMajority of the people had High school Education followed by some college degree.\n",
    "\n",
    "4)\tCapitalGain represents profit from the sale of property or an investment. The average CapitalGain of the population from dataset is around 1700.\n",
    "\n",
    "5)\tBased on feature importance we can see that MaritialStatus seems to have higher significance followed by Education & Occupation\n",
    "\n",
    "6)\t41.8% of the people had bachelor’s degree followed by High school education and Masters\n",
    "\n",
    "7)\t46.9% of the people have never married\n",
    "\n",
    "8)\tPeople who belongs to Exec-managerial category and prof-specialty earns more than 50K per year in compare to people belonging to other categories.\n",
    "\n",
    "9)\tPeople who have Doctorate, master’s degree and attended a prof school earns more than 50K per year, whereas people who only attended pre-school earns less than 50K per year.\n",
    "\n",
    "10)\tPeople who are Married appears to be earning more than 50k per year.\n",
    "\n",
    "11)\tThe top 5 countries which represents people earning more than 50k per year were Yugoslavia, India, Iran, Greece and France."
   ]
  }
 ],
 "metadata": {
  "kernelspec": {
   "display_name": "Python 3",
   "language": "python",
   "name": "python3"
  },
  "language_info": {
   "codemirror_mode": {
    "name": "ipython",
    "version": 3
   },
   "file_extension": ".py",
   "mimetype": "text/x-python",
   "name": "python",
   "nbconvert_exporter": "python",
   "pygments_lexer": "ipython3",
   "version": "3.7.1"
  }
 },
 "nbformat": 4,
 "nbformat_minor": 2
}
